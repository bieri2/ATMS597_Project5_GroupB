{
  "nbformat": 4,
  "nbformat_minor": 0,
  "metadata": {
    "colab": {
      "name": "ATMS597_Project5_SVM_classifier.ipynb",
      "provenance": [],
      "authorship_tag": "ABX9TyPprTCAo8vuAuxk0xRN9lE/",
      "include_colab_link": true
    },
    "kernelspec": {
      "name": "python3",
      "display_name": "Python 3"
    }
  },
  "cells": [
    {
      "cell_type": "markdown",
      "metadata": {
        "id": "view-in-github",
        "colab_type": "text"
      },
      "source": [
        "<a href=\"https://colab.research.google.com/github/bieri2/ATMS597_Project5_GroupB/blob/master/ATMS597_Project5_SVM_classifier.ipynb\" target=\"_parent\"><img src=\"https://colab.research.google.com/assets/colab-badge.svg\" alt=\"Open In Colab\"/></a>"
      ]
    },
    {
      "cell_type": "markdown",
      "metadata": {
        "id": "BQrNkhc0T1FZ",
        "colab_type": "text"
      },
      "source": [
        "# ATMS-597 Project-5 Group-B \n",
        "<b>Group members:</b> Carolina Bieri, Divyansh Chug, Dongwei Fu  <br>\n",
        "<b>Assigned ASOS location:</b> Des Moines, IA (Station name KDSM) <br>\n",
        "\n",
        "<b>Goal:</b> Train a Support Vector Machine classifier to predict whether it will snow or rain <br>"
      ]
    },
    {
      "cell_type": "markdown",
      "metadata": {
        "id": "WLWHfSpMWfSY",
        "colab_type": "text"
      },
      "source": [
        "### This notebook tests the suitability of Support Vector Machine Classifier from Sklearn to classify the occurence of Rain or Snow in 5-min ASOS data for Des Moines, Iowa"
      ]
    },
    {
      "cell_type": "code",
      "metadata": {
        "id": "HEbZqNEXOZbz",
        "colab_type": "code",
        "colab": {
          "base_uri": "https://localhost:8080/",
          "height": 124
        },
        "outputId": "afab33ba-5aa8-426b-ac61-5129c4216545"
      },
      "source": [
        "#mount your google drive\n",
        "from google.colab import drive\n",
        "drive.mount('/content/drive')"
      ],
      "execution_count": 1,
      "outputs": [
        {
          "output_type": "stream",
          "text": [
            "Go to this URL in a browser: https://accounts.google.com/o/oauth2/auth?client_id=947318989803-6bn6qk8qdgf4n4g3pfee6491hc0brc4i.apps.googleusercontent.com&redirect_uri=urn%3aietf%3awg%3aoauth%3a2.0%3aoob&response_type=code&scope=email%20https%3a%2f%2fwww.googleapis.com%2fauth%2fdocs.test%20https%3a%2f%2fwww.googleapis.com%2fauth%2fdrive%20https%3a%2f%2fwww.googleapis.com%2fauth%2fdrive.photos.readonly%20https%3a%2f%2fwww.googleapis.com%2fauth%2fpeopleapi.readonly\n",
            "\n",
            "Enter your authorization code:\n",
            "··········\n",
            "Mounted at /content/drive\n"
          ],
          "name": "stdout"
        }
      ]
    },
    {
      "cell_type": "code",
      "metadata": {
        "id": "7kZ_V0m8OxCT",
        "colab_type": "code",
        "colab": {
          "base_uri": "https://localhost:8080/",
          "height": 35
        },
        "outputId": "6ca4e205-ac13-4b3b-b4f3-519440f1454d"
      },
      "source": [
        "#change to your directory where you stored the files\n",
        "%cd /content/drive/My Drive/Academics/ATMS597_dataanalysis/Project5/ATMS597_Project5_GroupB"
      ],
      "execution_count": 2,
      "outputs": [
        {
          "output_type": "stream",
          "text": [
            "/content/drive/My Drive/Academics/ATMS597_dataanalysis/Project5/ATMS597_Project5_GroupB\n"
          ],
          "name": "stdout"
        }
      ]
    },
    {
      "cell_type": "code",
      "metadata": {
        "id": "EvgwFqGLPHCZ",
        "colab_type": "code",
        "colab": {
          "base_uri": "https://localhost:8080/",
          "height": 72
        },
        "outputId": "4369451a-c33d-4255-e0bd-5095d82855d4"
      },
      "source": [
        "%matplotlib inline\n",
        "import numpy as np\n",
        "import matplotlib.pyplot as plt\n",
        "from scipy import stats\n",
        "import pandas as pd\n",
        "\n",
        "# use seaborn plotting defaults\n",
        "import seaborn as sns; sns.set()"
      ],
      "execution_count": 3,
      "outputs": [
        {
          "output_type": "stream",
          "text": [
            "/usr/local/lib/python3.6/dist-packages/statsmodels/tools/_testing.py:19: FutureWarning: pandas.util.testing is deprecated. Use the functions in the public API at pandas.testing instead.\n",
            "  import pandas.util.testing as tm\n"
          ],
          "name": "stderr"
        }
      ]
    },
    {
      "cell_type": "markdown",
      "metadata": {
        "id": "M0x--8ArWppG",
        "colab_type": "text"
      },
      "source": [
        "Load the dataframe and divide the data into training and testing samples"
      ]
    },
    {
      "cell_type": "code",
      "metadata": {
        "id": "4zDy6f03PJMk",
        "colab_type": "code",
        "colab": {}
      },
      "source": [
        "features = pd.read_csv('logistic_features_new.csv')\n",
        "from sklearn.model_selection import train_test_split\n",
        "\n",
        "y = features['wx_binary']\n",
        "X = features.drop(['wx_binary', 'date_time'],axis=1)\n",
        "X_train, X_test, y_train, y_test = train_test_split(X, y, test_size = 0.3,random_state=0)"
      ],
      "execution_count": 0,
      "outputs": []
    },
    {
      "cell_type": "markdown",
      "metadata": {
        "id": "B5zRaupBWyha",
        "colab_type": "text"
      },
      "source": [
        "Load the classifier and fit the model. We can tune the hyperparameters here. I will update the best parameters, once the cross validation test is excuted."
      ]
    },
    {
      "cell_type": "code",
      "metadata": {
        "id": "Wt_llHNiCF2E",
        "colab_type": "code",
        "colab": {
          "base_uri": "https://localhost:8080/",
          "height": 121
        },
        "outputId": "77c476e3-a98e-43af-9c73-17cd2d50fd0d"
      },
      "source": [
        "from sklearn.svm import SVC # \"Support vector classifier\"\n",
        "clf_1000 = SVC(C = 1000., probability = True)\n",
        "%time clf_1000.fit(X_train, y_train)"
      ],
      "execution_count": 42,
      "outputs": [
        {
          "output_type": "stream",
          "text": [
            "CPU times: user 8min 18s, sys: 906 ms, total: 8min 19s\n",
            "Wall time: 8min 19s\n"
          ],
          "name": "stdout"
        },
        {
          "output_type": "execute_result",
          "data": {
            "text/plain": [
              "SVC(C=1000.0, break_ties=False, cache_size=200, class_weight=None, coef0=0.0,\n",
              "    decision_function_shape='ovr', degree=3, gamma='scale', kernel='rbf',\n",
              "    max_iter=-1, probability=True, random_state=None, shrinking=True, tol=0.001,\n",
              "    verbose=False)"
            ]
          },
          "metadata": {
            "tags": []
          },
          "execution_count": 42
        }
      ]
    },
    {
      "cell_type": "markdown",
      "metadata": {
        "id": "UlWYCLc3jdGK",
        "colab_type": "text"
      },
      "source": [
        "We need to turn on the 'probability' argument, so we can later compute Brier Scores."
      ]
    },
    {
      "cell_type": "code",
      "metadata": {
        "id": "oYxOYjSgPS7O",
        "colab_type": "code",
        "colab": {}
      },
      "source": [
        "y_test_fit = clf_1000.predict(X_test)"
      ],
      "execution_count": 0,
      "outputs": []
    },
    {
      "cell_type": "markdown",
      "metadata": {
        "id": "pYJFU5lWkEMZ",
        "colab_type": "text"
      },
      "source": [
        "Classification report from sklearn.metrics"
      ]
    },
    {
      "cell_type": "code",
      "metadata": {
        "id": "AJ4OsXuiPvxj",
        "colab_type": "code",
        "colab": {
          "base_uri": "https://localhost:8080/",
          "height": 173
        },
        "outputId": "94b06887-04c6-484d-d26b-f69505dcaed6"
      },
      "source": [
        "from sklearn.metrics import classification_report\n",
        "print(classification_report(y_test, y_test_fit))"
      ],
      "execution_count": 44,
      "outputs": [
        {
          "output_type": "stream",
          "text": [
            "              precision    recall  f1-score   support\n",
            "\n",
            "         0.0       1.00      0.98      0.99     27578\n",
            "         1.0       0.97      1.00      0.98     20596\n",
            "\n",
            "    accuracy                           0.99     48174\n",
            "   macro avg       0.98      0.99      0.99     48174\n",
            "weighted avg       0.99      0.99      0.99     48174\n",
            "\n"
          ],
          "name": "stdout"
        }
      ]
    },
    {
      "cell_type": "markdown",
      "metadata": {
        "id": "K-8C_KnmkIoY",
        "colab_type": "text"
      },
      "source": [
        "Confusion matrix"
      ]
    },
    {
      "cell_type": "code",
      "metadata": {
        "id": "SUDKuVriP3ix",
        "colab_type": "code",
        "colab": {
          "base_uri": "https://localhost:8080/",
          "height": 285
        },
        "outputId": "c47568e0-646a-4ead-aba4-b93c3a22f4cd"
      },
      "source": [
        "from sklearn.metrics import confusion_matrix\n",
        "mat = confusion_matrix(y_test, y_test_fit)\n",
        "sns.heatmap(mat.T, square=True, annot=True, fmt='d', cbar=False)\n",
        "plt.xlabel('true label')\n",
        "plt.ylabel('predicted label');"
      ],
      "execution_count": 53,
      "outputs": [
        {
          "output_type": "display_data",
          "data": {
            "image/png": "[encoded data removed]",
            "text/plain": [
              "<Figure size 432x288 with 1 Axes>"
            ]
          },
          "metadata": {
            "tags": []
          }
        }
      ]
    },
    {
      "cell_type": "markdown",
      "metadata": {
        "id": "mLAN7CdvU-6w",
        "colab_type": "text"
      },
      "source": [
        "Forecast skill reduction is preferentially due to rain wrongly predicted as snow."
      ]
    },
    {
      "cell_type": "markdown",
      "metadata": {
        "id": "9CqAiz5JkOaf",
        "colab_type": "text"
      },
      "source": [
        "Now let's look at some prediction scores, starting with R squared"
      ]
    },
    {
      "cell_type": "code",
      "metadata": {
        "id": "4_XUWKfOSzxD",
        "colab_type": "code",
        "colab": {
          "base_uri": "https://localhost:8080/",
          "height": 52
        },
        "outputId": "28017595-e2c1-4c56-b6bc-f8346193b782"
      },
      "source": [
        "#baseline train score for training data\n",
        "print('Baseline score for training data = ', clf_1000.score(X_train, y_train))\n",
        "\n",
        "#baseline test score for test data\n",
        "print('Baseline score for test data = ', clf_1000.score(X_test, y_test))"
      ],
      "execution_count": 46,
      "outputs": [
        {
          "output_type": "stream",
          "text": [
            "Baseline score for training data =  0.9847781217750258\n",
            "Baseline score for test data =  0.9860298086104538\n"
          ],
          "name": "stdout"
        }
      ]
    },
    {
      "cell_type": "markdown",
      "metadata": {
        "id": "IsXjOMHYkVVu",
        "colab_type": "text"
      },
      "source": [
        "Briar Score for training and testing"
      ]
    },
    {
      "cell_type": "code",
      "metadata": {
        "id": "t19bh3exrmzl",
        "colab_type": "code",
        "colab": {}
      },
      "source": [
        "from sklearn.metrics import brier_score_loss\n",
        "# Get probability of snow prediction\n",
        "y_train_prob = clf_1000.predict_proba(X_train)[:,1]\n",
        "# Get probability of snow prediction\n",
        "y_test_prob = clf_1000.predict_proba(X_test)[:,1]"
      ],
      "execution_count": 0,
      "outputs": []
    },
    {
      "cell_type": "code",
      "metadata": {
        "id": "3yFN1s-kQYwz",
        "colab_type": "code",
        "colab": {
          "base_uri": "https://localhost:8080/",
          "height": 52
        },
        "outputId": "d1e6833b-e92c-4c52-cbfe-d9e032ea15b0"
      },
      "source": [
        "print('Brier score for training data = ', brier_score_loss(y_train,y_train_prob))\n",
        "print('Brier score for test data = ', brier_score_loss(y_test,y_test_prob))"
      ],
      "execution_count": 48,
      "outputs": [
        {
          "output_type": "stream",
          "text": [
            "Brier score for training data =  0.013621863032887612\n",
            "Brier score for test data =  0.013216536314770455\n"
          ],
          "name": "stdout"
        }
      ]
    },
    {
      "cell_type": "markdown",
      "metadata": {
        "id": "wwFg9C2UkgkI",
        "colab_type": "text"
      },
      "source": [
        "Briar Score for climatology"
      ]
    },
    {
      "cell_type": "code",
      "metadata": {
        "id": "0-iLUTL9ki91",
        "colab_type": "code",
        "colab": {}
      },
      "source": [
        "# This function generates a climatology probability array of desired shape for 1:Snow \n",
        "def get_clim_prob(y, shape): # Provide shape as a tuple (x1, x2)\n",
        "  # calculate probability of 1.0 (snow)\n",
        "  clim_1 = np.size((y > 0.).values.nonzero())/np.size(y)\n",
        "  # create an array of same size as y\n",
        "  clim_prob = np.zeros(shape)\n",
        "  # Assign y as clim_1\n",
        "  clim_prob[:] = clim_1\n",
        "  return clim_prob"
      ],
      "execution_count": 0,
      "outputs": []
    },
    {
      "cell_type": "code",
      "metadata": {
        "id": "QruTOtm4tT-p",
        "colab_type": "code",
        "colab": {
          "base_uri": "https://localhost:8080/",
          "height": 52
        },
        "outputId": "2579672a-926e-49a0-d502-f15414c88d4f"
      },
      "source": [
        "y_train_clim_prob = get_clim_prob(y_train, y_train.shape)\n",
        "print('Brier score for climatology from training data = ', brier_score_loss(y_train,y_train_clim_prob))\n",
        "\n",
        "y_test_clim_prob = get_clim_prob(y_test, y_test.shape)\n",
        "print('Brier score for climatology from test data = ', brier_score_loss(y_test,y_test_clim_prob))"
      ],
      "execution_count": 50,
      "outputs": [
        {
          "output_type": "stream",
          "text": [
            "Brier score for climatology from training data =  0.24435135504805539\n",
            "Brier score for climatology from test data =  0.24474860990073988\n"
          ],
          "name": "stdout"
        }
      ]
    },
    {
      "cell_type": "code",
      "metadata": {
        "id": "T2d549fU_PTR",
        "colab_type": "code",
        "colab": {
          "base_uri": "https://localhost:8080/",
          "height": 52
        },
        "outputId": "57434762-7ef8-4d9d-8bbb-6ee5037701bc"
      },
      "source": [
        "y_test_clim_prob"
      ],
      "execution_count": 40,
      "outputs": [
        {
          "output_type": "execute_result",
          "data": {
            "text/plain": [
              "array([0.42753352, 0.42753352, 0.42753352, ..., 0.42753352, 0.42753352,\n",
              "       0.42753352])"
            ]
          },
          "metadata": {
            "tags": []
          },
          "execution_count": 40
        }
      ]
    },
    {
      "cell_type": "markdown",
      "metadata": {
        "id": "5LeaPsWvvJHz",
        "colab_type": "text"
      },
      "source": [
        "Briar Skill Score (compared to climatology) for Training and Validation datasets"
      ]
    },
    {
      "cell_type": "code",
      "metadata": {
        "id": "R-Mm0rOatnRM",
        "colab_type": "code",
        "colab": {
          "base_uri": "https://localhost:8080/",
          "height": 52
        },
        "outputId": "c9001202-e24c-4adf-967f-b56fd5c7cc13"
      },
      "source": [
        "bss_train = 1 - (brier_score_loss(y_train,y_train_prob)/brier_score_loss(y_train,y_train_clim_prob))\n",
        "print('Brier skill score for training data = ', bss_train)\n",
        "\n",
        "bss_test = 1 - (brier_score_loss(y_test,y_test_prob)/brier_score_loss(y_test,y_test_clim_prob))\n",
        "print('Brier skill score for test data = ', bss_test)"
      ],
      "execution_count": 51,
      "outputs": [
        {
          "output_type": "stream",
          "text": [
            "Brier skill score for training data =  0.9442529670841864\n",
            "Brier skill score for test data =  0.9459995449202733\n"
          ],
          "name": "stdout"
        }
      ]
    },
    {
      "cell_type": "markdown",
      "metadata": {
        "id": "CWOR74ffRfQh",
        "colab_type": "text"
      },
      "source": [
        "Let's also look at the ROC curve for the forecast"
      ]
    },
    {
      "cell_type": "code",
      "metadata": {
        "id": "UNUifcZgt6Hs",
        "colab_type": "code",
        "colab": {
          "base_uri": "https://localhost:8080/",
          "height": 302
        },
        "outputId": "c11a9529-72a6-46cd-ec90-6b80eb2377e5"
      },
      "source": [
        "from sklearn.metrics import roc_curve\n",
        "# calculate roc curve\n",
        "fpr, tpr, thresholds = roc_curve(y_test, y_test_prob)\n",
        "# plot no skill\n",
        "plt.plot([0, 1], [0, 1], linestyle='--', label = 'zero skill')\n",
        "# plot the roc curve for the model\n",
        "plt.plot(fpr, tpr, label = 'SVC')\n",
        "# title\n",
        "plt.xlabel('Probability of false detection')\n",
        "plt.ylabel('Probability of detection')\n",
        "plt.title('ROC curve', fontsize = 14)\n",
        "plt.legend(loc = 'best')\n",
        "# show the plot\n",
        "plt.show()"
      ],
      "execution_count": 55,
      "outputs": [
        {
          "output_type": "display_data",
          "data": {
            "image/png": "[encoded data removed]",
            "text/plain": [
              "<Figure size 432x288 with 1 Axes>"
            ]
          },
          "metadata": {
            "tags": []
          }
        }
      ]
    },
    {
      "cell_type": "code",
      "metadata": {
        "id": "TqEVsVnhSQBA",
        "colab_type": "code",
        "colab": {}
      },
      "source": [
        ""
      ],
      "execution_count": 0,
      "outputs": []
    }
  ]
}