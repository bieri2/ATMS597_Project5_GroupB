{
  "nbformat": 4,
  "nbformat_minor": 0,
  "metadata": {
    "colab": {
      "name": "Project_5_Logistic_Regression_DF.ipynb",
      "provenance": [],
      "collapsed_sections": [],
      "toc_visible": true,
      "authorship_tag": "ABX9TyMpLh73PZEB7oPJx5EusPGG",
      "include_colab_link": true
    },
    "kernelspec": {
      "name": "python3",
      "display_name": "Python 3"
    }
  },
  "cells": [
    {
      "cell_type": "markdown",
      "metadata": {
        "id": "view-in-github",
        "colab_type": "text"
      },
      "source": [
        "<a href=\"https://colab.research.google.com/github/bieri2/ATMS597_Project5_GroupB/blob/master/Project_5_Logistic_Regression_DF.ipynb\" target=\"_parent\"><img src=\"https://colab.research.google.com/assets/colab-badge.svg\" alt=\"Open In Colab\"/></a>"
      ]
    },
    {
      "cell_type": "code",
      "metadata": {
        "id": "_As0Q1hj7YBb",
        "colab_type": "code",
        "outputId": "5c021535-7843-4b62-cad8-4d362883c512",
        "colab": {
          "base_uri": "https://localhost:8080/",
          "height": 770
        }
      },
      "source": [
        "# Import neccessary libraries\n",
        "from datetime import datetime\n",
        "import pandas as pd\n",
        "import numpy as np\n",
        "!pip install metpy\n",
        "from metpy.io import parse_metar_to_dataframe\n",
        "import glob\n",
        "from sklearn.model_selection import train_test_split\n",
        "from sklearn.linear_model import LogisticRegression\n",
        "from sklearn.metrics import brier_score_loss\n",
        "import seaborn as sns; sns.set()\n",
        "from sklearn.metrics import roc_curve\n",
        "import matplotlib.pyplot as plt\n",
        "from sklearn import preprocessing\n",
        "from sklearn.metrics import confusion_matrix"
      ],
      "execution_count": 2,
      "outputs": [
        {
          "output_type": "stream",
          "text": [
            "Collecting metpy\n",
            "\u001b[?25l  Downloading https://files.pythonhosted.org/packages/47/4d/e33b76fdca421daeca8ac06fc012de40553364e7e79468040ea42f66a989/MetPy-0.12.1-py3-none-any.whl (319kB)\n",
            "\u001b[K     |████████████████████████████████| 327kB 2.8MB/s \n",
            "\u001b[?25hRequirement already satisfied: xarray>=0.13.0 in /usr/local/lib/python3.6/dist-packages (from metpy) (0.15.1)\n",
            "Requirement already satisfied: matplotlib>=2.1.0 in /usr/local/lib/python3.6/dist-packages (from metpy) (3.2.1)\n",
            "Requirement already satisfied: scipy>=1.0 in /usr/local/lib/python3.6/dist-packages (from metpy) (1.4.1)\n",
            "Collecting pint>=0.10.1\n",
            "\u001b[?25l  Downloading https://files.pythonhosted.org/packages/9d/db/7a2204b03c22069839958df5723eb2718d50c33052e0da84c9a83de14ea4/Pint-0.11-py2.py3-none-any.whl (186kB)\n",
            "\u001b[K     |████████████████████████████████| 194kB 8.7MB/s \n",
            "\u001b[?25hRequirement already satisfied: pandas>=0.22.0 in /usr/local/lib/python3.6/dist-packages (from metpy) (1.0.3)\n",
            "Requirement already satisfied: numpy>=1.16.0 in /usr/local/lib/python3.6/dist-packages (from metpy) (1.18.2)\n",
            "Requirement already satisfied: traitlets>=4.3.0 in /usr/local/lib/python3.6/dist-packages (from metpy) (4.3.3)\n",
            "Collecting pooch>=0.1\n",
            "\u001b[?25l  Downloading https://files.pythonhosted.org/packages/66/ad/df0a1023b40c122d6e7c01ea1ebb69b04c6c5f97871df1dc863cb77c78e4/pooch-1.1.0-py3-none-any.whl (44kB)\n",
            "\u001b[K     |████████████████████████████████| 51kB 5.8MB/s \n",
            "\u001b[?25hRequirement already satisfied: setuptools>=41.2 in /usr/local/lib/python3.6/dist-packages (from xarray>=0.13.0->metpy) (46.1.3)\n",
            "Requirement already satisfied: kiwisolver>=1.0.1 in /usr/local/lib/python3.6/dist-packages (from matplotlib>=2.1.0->metpy) (1.2.0)\n",
            "Requirement already satisfied: python-dateutil>=2.1 in /usr/local/lib/python3.6/dist-packages (from matplotlib>=2.1.0->metpy) (2.8.1)\n",
            "Requirement already satisfied: cycler>=0.10 in /usr/local/lib/python3.6/dist-packages (from matplotlib>=2.1.0->metpy) (0.10.0)\n",
            "Requirement already satisfied: pyparsing!=2.0.4,!=2.1.2,!=2.1.6,>=2.0.1 in /usr/local/lib/python3.6/dist-packages (from matplotlib>=2.1.0->metpy) (2.4.7)\n",
            "Requirement already satisfied: pytz>=2017.2 in /usr/local/lib/python3.6/dist-packages (from pandas>=0.22.0->metpy) (2018.9)\n",
            "Requirement already satisfied: decorator in /usr/local/lib/python3.6/dist-packages (from traitlets>=4.3.0->metpy) (4.4.2)\n",
            "Requirement already satisfied: six in /usr/local/lib/python3.6/dist-packages (from traitlets>=4.3.0->metpy) (1.12.0)\n",
            "Requirement already satisfied: ipython-genutils in /usr/local/lib/python3.6/dist-packages (from traitlets>=4.3.0->metpy) (0.2.0)\n",
            "Requirement already satisfied: packaging in /usr/local/lib/python3.6/dist-packages (from pooch>=0.1->metpy) (20.3)\n",
            "Collecting appdirs\n",
            "  Downloading https://files.pythonhosted.org/packages/56/eb/810e700ed1349edde4cbdc1b2a21e28cdf115f9faf263f6bbf8447c1abf3/appdirs-1.4.3-py2.py3-none-any.whl\n",
            "Requirement already satisfied: requests in /usr/local/lib/python3.6/dist-packages (from pooch>=0.1->metpy) (2.21.0)\n",
            "Requirement already satisfied: idna<2.9,>=2.5 in /usr/local/lib/python3.6/dist-packages (from requests->pooch>=0.1->metpy) (2.8)\n",
            "Requirement already satisfied: chardet<3.1.0,>=3.0.2 in /usr/local/lib/python3.6/dist-packages (from requests->pooch>=0.1->metpy) (3.0.4)\n",
            "Requirement already satisfied: certifi>=2017.4.17 in /usr/local/lib/python3.6/dist-packages (from requests->pooch>=0.1->metpy) (2020.4.5.1)\n",
            "Requirement already satisfied: urllib3<1.25,>=1.21.1 in /usr/local/lib/python3.6/dist-packages (from requests->pooch>=0.1->metpy) (1.24.3)\n",
            "Installing collected packages: pint, appdirs, pooch, metpy\n",
            "Successfully installed appdirs-1.4.3 metpy-0.12.1 pint-0.11 pooch-1.1.0\n"
          ],
          "name": "stdout"
        },
        {
          "output_type": "stream",
          "text": [
            "Downloading file 'sfstns.tbl' from 'https://github.com/Unidata/MetPy/raw/v0.12.1/staticdata/sfstns.tbl' to '/root/.cache/metpy/v0.12.1'.\n",
            "Downloading file 'master.txt' from 'https://github.com/Unidata/MetPy/raw/v0.12.1/staticdata/master.txt' to '/root/.cache/metpy/v0.12.1'.\n",
            "Downloading file 'stations.txt' from 'https://github.com/Unidata/MetPy/raw/v0.12.1/staticdata/stations.txt' to '/root/.cache/metpy/v0.12.1'.\n",
            "Downloading file 'airport-codes.csv' from 'https://github.com/Unidata/MetPy/raw/v0.12.1/staticdata/airport-codes.csv' to '/root/.cache/metpy/v0.12.1'.\n",
            "Cannot import USCOUNTIES and USSTATES without Cartopy installed.\n"
          ],
          "name": "stderr"
        }
      ]
    },
    {
      "cell_type": "code",
      "metadata": {
        "id": "5xVRB05_7iMb",
        "colab_type": "code",
        "outputId": "7fd467d2-dde0-4375-de0e-9c2a699c89ff",
        "colab": {
          "base_uri": "https://localhost:8080/",
          "height": 189
        }
      },
      "source": [
        "#mount your google drive\n",
        "from google.colab import drive\n",
        "drive.mount('/content/drive')"
      ],
      "execution_count": 3,
      "outputs": [
        {
          "output_type": "stream",
          "text": [
            "Go to this URL in a browser: https://accounts.google.com/o/oauth2/auth?client_id=947318989803-6bn6qk8qdgf4n4g3pfee6491hc0brc4i.apps.googleusercontent.com&redirect_uri=urn%3aietf%3awg%3aoauth%3a2.0%3aoob&response_type=code&scope=email%20https%3a%2f%2fwww.googleapis.com%2fauth%2fdocs.test%20https%3a%2f%2fwww.googleapis.com%2fauth%2fdrive%20https%3a%2f%2fwww.googleapis.com%2fauth%2fdrive.photos.readonly%20https%3a%2f%2fwww.googleapis.com%2fauth%2fpeopleapi.readonly\n",
            "\n",
            "Enter your authorization code:\n",
            "··········\n",
            "Mounted at /content/drive\n"
          ],
          "name": "stdout"
        }
      ]
    },
    {
      "cell_type": "code",
      "metadata": {
        "id": "J4hyRCCXm5--",
        "colab_type": "code",
        "outputId": "745925ee-312c-4c33-934c-5af7cb75ae48",
        "colab": {
          "base_uri": "https://localhost:8080/",
          "height": 34
        }
      },
      "source": [
        "#change to your directory where you stored the files\n",
        "%cd /content/drive/My Drive/Project_5/"
      ],
      "execution_count": 4,
      "outputs": [
        {
          "output_type": "stream",
          "text": [
            "/content/drive/My Drive/Project_5\n"
          ],
          "name": "stdout"
        }
      ]
    },
    {
      "cell_type": "code",
      "metadata": {
        "id": "rVo535pDOa3n",
        "colab_type": "code",
        "outputId": "a6cbde02-e42b-454e-9373-26a417e865f0",
        "colab": {
          "base_uri": "https://localhost:8080/",
          "height": 111
        }
      },
      "source": [
        "# Read the qc csv for KDSM\n",
        "data = pd.read_csv('all_data_KDSM_qc.csv', index_col='date_time', \n",
        "                   parse_dates=True)"
      ],
      "execution_count": 5,
      "outputs": [
        {
          "output_type": "stream",
          "text": [
            "/usr/local/lib/python3.6/dist-packages/IPython/core/interactiveshell.py:2718: DtypeWarning: Columns (9) have mixed types.Specify dtype option on import or set low_memory=False.\n",
            "  interactivity=interactivity, compiler=compiler, result=result)\n"
          ],
          "name": "stderr"
        }
      ]
    },
    {
      "cell_type": "code",
      "metadata": {
        "id": "P6p5H3PJOwMY",
        "colab_type": "code",
        "colab": {}
      },
      "source": [
        "#select the columns that have useful information (i.e., not the empty columns)\n",
        "df=data[['wind_direction', 'wind_speed', 'current_wx1','low_cloud_type',\n",
        "      'low_cloud_level','medium_cloud_level','medium_cloud_type',\n",
        "       'medium_cloud_level', 'high_cloud_type', 'high_cloud_level',\n",
        "       'highest_cloud_type', 'highest_cloud_level', 'cloud_coverage',\n",
        "       'air_temperature', 'dew_point_temperature', 'altimeter',\n",
        "       'present_weather', 'past_weather', 'eastward_wind', 'northward_wind']]"
      ],
      "execution_count": 0,
      "outputs": []
    },
    {
      "cell_type": "code",
      "metadata": {
        "id": "G3h63xrRPIFH",
        "colab_type": "code",
        "outputId": "f525b220-1d64-4a31-e8fc-750d63febfd1",
        "colab": {
          "base_uri": "https://localhost:8080/",
          "height": 85
        }
      },
      "source": [
        "# check to see how many different weather types\n",
        "df.current_wx1.unique()"
      ],
      "execution_count": 7,
      "outputs": [
        {
          "output_type": "execute_result",
          "data": {
            "text/plain": [
              "array(['BR', 'FZDZ', '-RA', '-SN', 'HZ', 'FG', '-FZRA', 'FZFG', 'SN',\n",
              "       '+SN', 'RA', '+TSRA', 'TSRA', '-TSRA', 'TS', '+RA', '+TS', 'BL',\n",
              "       '-FZDZ', '-SNRA', 'FZRA', 'SNRA', 'BLDU', 'MIFG', '+FZRA', 'VCTS',\n",
              "       '-SNDZ', '-TS', 'VCFG', '-TSDZ'], dtype=object)"
            ]
          },
          "metadata": {
            "tags": []
          },
          "execution_count": 7
        }
      ]
    },
    {
      "cell_type": "code",
      "metadata": {
        "id": "CRShbKh9VAgR",
        "colab_type": "code",
        "colab": {}
      },
      "source": [
        "# change current_wx to binary with respect to rain/snow\n",
        "# while set 0 to rain 1 to snow\n",
        "wx_binary ={'-RA':0, '-SN':1,'SN':1,'+SN':1,'RA':0,'+TSRA':0,'TSRA':0,'-TSRA':0,\n",
        "            '+RA':0,'-FZDZ':0,'FZRA':0,'+FZRA':0,'-TSDZ':0}\n"
      ],
      "execution_count": 0,
      "outputs": []
    },
    {
      "cell_type": "code",
      "metadata": {
        "id": "Rfa6lAU8C3Wd",
        "colab_type": "code",
        "outputId": "5e3c9202-6660-4490-e966-9f7977fba1b4",
        "colab": {
          "base_uri": "https://localhost:8080/",
          "height": 261
        }
      },
      "source": [
        "# remap the column with the binary values\n",
        "df.loc[:,'wx_binary']=df['current_wx1'].map(wx_binary) "
      ],
      "execution_count": 9,
      "outputs": [
        {
          "output_type": "stream",
          "text": [
            "/usr/local/lib/python3.6/dist-packages/pandas/core/indexing.py:845: SettingWithCopyWarning: \n",
            "A value is trying to be set on a copy of a slice from a DataFrame.\n",
            "Try using .loc[row_indexer,col_indexer] = value instead\n",
            "\n",
            "See the caveats in the documentation: https://pandas.pydata.org/pandas-docs/stable/user_guide/indexing.html#returning-a-view-versus-a-copy\n",
            "  self.obj[key] = _infer_fill_value(value)\n",
            "/usr/local/lib/python3.6/dist-packages/pandas/core/indexing.py:966: SettingWithCopyWarning: \n",
            "A value is trying to be set on a copy of a slice from a DataFrame.\n",
            "Try using .loc[row_indexer,col_indexer] = value instead\n",
            "\n",
            "See the caveats in the documentation: https://pandas.pydata.org/pandas-docs/stable/user_guide/indexing.html#returning-a-view-versus-a-copy\n",
            "  self.obj[item] = s\n"
          ],
          "name": "stderr"
        }
      ]
    },
    {
      "cell_type": "code",
      "metadata": {
        "id": "WEBI_AqzDLl8",
        "colab_type": "code",
        "outputId": "343a105c-b1b6-43c7-f18d-5abce2ce364e",
        "colab": {
          "base_uri": "https://localhost:8080/",
          "height": 660
        }
      },
      "source": [
        "# keep the rows where wx_binary is not np.nan\n",
        "df_new=df[~np.isnan(df['wx_binary'])]\n",
        "df_new.to_csv('KDSM_metar_new.csv')"
      ],
      "execution_count": 10,
      "outputs": [
        {
          "output_type": "execute_result",
          "data": {
            "text/html": [
              "<div>\n",
              "<style scoped>\n",
              "    .dataframe tbody tr th:only-of-type {\n",
              "        vertical-align: middle;\n",
              "    }\n",
              "\n",
              "    .dataframe tbody tr th {\n",
              "        vertical-align: top;\n",
              "    }\n",
              "\n",
              "    .dataframe thead th {\n",
              "        text-align: right;\n",
              "    }\n",
              "</style>\n",
              "<table border=\"1\" class=\"dataframe\">\n",
              "  <thead>\n",
              "    <tr style=\"text-align: right;\">\n",
              "      <th></th>\n",
              "      <th>wind_direction</th>\n",
              "      <th>wind_speed</th>\n",
              "      <th>current_wx1</th>\n",
              "      <th>low_cloud_type</th>\n",
              "      <th>low_cloud_level</th>\n",
              "      <th>medium_cloud_level</th>\n",
              "      <th>medium_cloud_type</th>\n",
              "      <th>medium_cloud_level</th>\n",
              "      <th>high_cloud_type</th>\n",
              "      <th>high_cloud_level</th>\n",
              "      <th>highest_cloud_type</th>\n",
              "      <th>highest_cloud_level</th>\n",
              "      <th>cloud_coverage</th>\n",
              "      <th>air_temperature</th>\n",
              "      <th>dew_point_temperature</th>\n",
              "      <th>altimeter</th>\n",
              "      <th>present_weather</th>\n",
              "      <th>past_weather</th>\n",
              "      <th>eastward_wind</th>\n",
              "      <th>northward_wind</th>\n",
              "      <th>wx_binary</th>\n",
              "    </tr>\n",
              "    <tr>\n",
              "      <th>date_time</th>\n",
              "      <th></th>\n",
              "      <th></th>\n",
              "      <th></th>\n",
              "      <th></th>\n",
              "      <th></th>\n",
              "      <th></th>\n",
              "      <th></th>\n",
              "      <th></th>\n",
              "      <th></th>\n",
              "      <th></th>\n",
              "      <th></th>\n",
              "      <th></th>\n",
              "      <th></th>\n",
              "      <th></th>\n",
              "      <th></th>\n",
              "      <th></th>\n",
              "      <th></th>\n",
              "      <th></th>\n",
              "      <th></th>\n",
              "      <th></th>\n",
              "      <th></th>\n",
              "    </tr>\n",
              "  </thead>\n",
              "  <tbody>\n",
              "    <tr>\n",
              "      <th>2000-01-03 18:10:00</th>\n",
              "      <td>40.0</td>\n",
              "      <td>10.0</td>\n",
              "      <td>-RA</td>\n",
              "      <td>OVC</td>\n",
              "      <td>500.0</td>\n",
              "      <td>NaN</td>\n",
              "      <td>NaN</td>\n",
              "      <td>NaN</td>\n",
              "      <td>NaN</td>\n",
              "      <td>NaN</td>\n",
              "      <td>NaN</td>\n",
              "      <td>NaN</td>\n",
              "      <td>8</td>\n",
              "      <td>1.0</td>\n",
              "      <td>0.0</td>\n",
              "      <td>29.86</td>\n",
              "      <td>61</td>\n",
              "      <td>10</td>\n",
              "      <td>-6.427876</td>\n",
              "      <td>-7.660444</td>\n",
              "      <td>0.0</td>\n",
              "    </tr>\n",
              "    <tr>\n",
              "      <th>2000-01-03 18:15:00</th>\n",
              "      <td>30.0</td>\n",
              "      <td>10.0</td>\n",
              "      <td>-RA</td>\n",
              "      <td>OVC</td>\n",
              "      <td>500.0</td>\n",
              "      <td>NaN</td>\n",
              "      <td>NaN</td>\n",
              "      <td>NaN</td>\n",
              "      <td>NaN</td>\n",
              "      <td>NaN</td>\n",
              "      <td>NaN</td>\n",
              "      <td>NaN</td>\n",
              "      <td>8</td>\n",
              "      <td>1.0</td>\n",
              "      <td>0.0</td>\n",
              "      <td>29.86</td>\n",
              "      <td>61</td>\n",
              "      <td>10</td>\n",
              "      <td>-5.000000</td>\n",
              "      <td>-8.660254</td>\n",
              "      <td>0.0</td>\n",
              "    </tr>\n",
              "    <tr>\n",
              "      <th>2000-01-03 18:20:00</th>\n",
              "      <td>30.0</td>\n",
              "      <td>9.0</td>\n",
              "      <td>-RA</td>\n",
              "      <td>OVC</td>\n",
              "      <td>500.0</td>\n",
              "      <td>NaN</td>\n",
              "      <td>NaN</td>\n",
              "      <td>NaN</td>\n",
              "      <td>NaN</td>\n",
              "      <td>NaN</td>\n",
              "      <td>NaN</td>\n",
              "      <td>NaN</td>\n",
              "      <td>8</td>\n",
              "      <td>1.0</td>\n",
              "      <td>0.0</td>\n",
              "      <td>29.86</td>\n",
              "      <td>61</td>\n",
              "      <td>10</td>\n",
              "      <td>-4.500000</td>\n",
              "      <td>-7.794229</td>\n",
              "      <td>0.0</td>\n",
              "    </tr>\n",
              "    <tr>\n",
              "      <th>2000-01-03 18:25:00</th>\n",
              "      <td>40.0</td>\n",
              "      <td>8.0</td>\n",
              "      <td>-RA</td>\n",
              "      <td>OVC</td>\n",
              "      <td>500.0</td>\n",
              "      <td>NaN</td>\n",
              "      <td>NaN</td>\n",
              "      <td>NaN</td>\n",
              "      <td>NaN</td>\n",
              "      <td>NaN</td>\n",
              "      <td>NaN</td>\n",
              "      <td>NaN</td>\n",
              "      <td>8</td>\n",
              "      <td>1.0</td>\n",
              "      <td>0.0</td>\n",
              "      <td>29.86</td>\n",
              "      <td>61</td>\n",
              "      <td>10</td>\n",
              "      <td>-5.142301</td>\n",
              "      <td>-6.128356</td>\n",
              "      <td>0.0</td>\n",
              "    </tr>\n",
              "    <tr>\n",
              "      <th>2000-01-03 18:30:00</th>\n",
              "      <td>30.0</td>\n",
              "      <td>9.0</td>\n",
              "      <td>-RA</td>\n",
              "      <td>OVC</td>\n",
              "      <td>500.0</td>\n",
              "      <td>NaN</td>\n",
              "      <td>NaN</td>\n",
              "      <td>NaN</td>\n",
              "      <td>NaN</td>\n",
              "      <td>NaN</td>\n",
              "      <td>NaN</td>\n",
              "      <td>NaN</td>\n",
              "      <td>8</td>\n",
              "      <td>1.0</td>\n",
              "      <td>0.0</td>\n",
              "      <td>29.86</td>\n",
              "      <td>61</td>\n",
              "      <td>10</td>\n",
              "      <td>-4.500000</td>\n",
              "      <td>-7.794229</td>\n",
              "      <td>0.0</td>\n",
              "    </tr>\n",
              "    <tr>\n",
              "      <th>...</th>\n",
              "      <td>...</td>\n",
              "      <td>...</td>\n",
              "      <td>...</td>\n",
              "      <td>...</td>\n",
              "      <td>...</td>\n",
              "      <td>...</td>\n",
              "      <td>...</td>\n",
              "      <td>...</td>\n",
              "      <td>...</td>\n",
              "      <td>...</td>\n",
              "      <td>...</td>\n",
              "      <td>...</td>\n",
              "      <td>...</td>\n",
              "      <td>...</td>\n",
              "      <td>...</td>\n",
              "      <td>...</td>\n",
              "      <td>...</td>\n",
              "      <td>...</td>\n",
              "      <td>...</td>\n",
              "      <td>...</td>\n",
              "      <td>...</td>\n",
              "    </tr>\n",
              "    <tr>\n",
              "      <th>2020-03-29 09:50:00</th>\n",
              "      <td>290.0</td>\n",
              "      <td>22.0</td>\n",
              "      <td>-RA</td>\n",
              "      <td>BKN</td>\n",
              "      <td>1500.0</td>\n",
              "      <td>2300.0</td>\n",
              "      <td>OVC</td>\n",
              "      <td>2300.0</td>\n",
              "      <td>NaN</td>\n",
              "      <td>NaN</td>\n",
              "      <td>NaN</td>\n",
              "      <td>NaN</td>\n",
              "      <td>8</td>\n",
              "      <td>4.0</td>\n",
              "      <td>3.0</td>\n",
              "      <td>29.56</td>\n",
              "      <td>61</td>\n",
              "      <td>0</td>\n",
              "      <td>20.673238</td>\n",
              "      <td>-7.524443</td>\n",
              "      <td>0.0</td>\n",
              "    </tr>\n",
              "    <tr>\n",
              "      <th>2020-03-29 09:55:00</th>\n",
              "      <td>290.0</td>\n",
              "      <td>18.0</td>\n",
              "      <td>-RA</td>\n",
              "      <td>BKN</td>\n",
              "      <td>1300.0</td>\n",
              "      <td>1900.0</td>\n",
              "      <td>OVC</td>\n",
              "      <td>1900.0</td>\n",
              "      <td>NaN</td>\n",
              "      <td>NaN</td>\n",
              "      <td>NaN</td>\n",
              "      <td>NaN</td>\n",
              "      <td>8</td>\n",
              "      <td>4.0</td>\n",
              "      <td>3.0</td>\n",
              "      <td>29.57</td>\n",
              "      <td>61</td>\n",
              "      <td>0</td>\n",
              "      <td>16.914467</td>\n",
              "      <td>-6.156363</td>\n",
              "      <td>0.0</td>\n",
              "    </tr>\n",
              "    <tr>\n",
              "      <th>2020-03-29 10:00:00</th>\n",
              "      <td>290.0</td>\n",
              "      <td>25.0</td>\n",
              "      <td>-RA</td>\n",
              "      <td>SCT</td>\n",
              "      <td>1300.0</td>\n",
              "      <td>1900.0</td>\n",
              "      <td>OVC</td>\n",
              "      <td>1900.0</td>\n",
              "      <td>NaN</td>\n",
              "      <td>NaN</td>\n",
              "      <td>NaN</td>\n",
              "      <td>NaN</td>\n",
              "      <td>8</td>\n",
              "      <td>4.0</td>\n",
              "      <td>3.0</td>\n",
              "      <td>29.57</td>\n",
              "      <td>61</td>\n",
              "      <td>0</td>\n",
              "      <td>23.492316</td>\n",
              "      <td>-8.550504</td>\n",
              "      <td>0.0</td>\n",
              "    </tr>\n",
              "    <tr>\n",
              "      <th>2020-03-29 10:05:00</th>\n",
              "      <td>290.0</td>\n",
              "      <td>21.0</td>\n",
              "      <td>-RA</td>\n",
              "      <td>SCT</td>\n",
              "      <td>1300.0</td>\n",
              "      <td>1900.0</td>\n",
              "      <td>BKN</td>\n",
              "      <td>1900.0</td>\n",
              "      <td>OVC</td>\n",
              "      <td>4300.0</td>\n",
              "      <td>NaN</td>\n",
              "      <td>NaN</td>\n",
              "      <td>8</td>\n",
              "      <td>4.0</td>\n",
              "      <td>3.0</td>\n",
              "      <td>29.57</td>\n",
              "      <td>61</td>\n",
              "      <td>0</td>\n",
              "      <td>19.733545</td>\n",
              "      <td>-7.182423</td>\n",
              "      <td>0.0</td>\n",
              "    </tr>\n",
              "    <tr>\n",
              "      <th>2020-03-29 10:10:00</th>\n",
              "      <td>290.0</td>\n",
              "      <td>21.0</td>\n",
              "      <td>-RA</td>\n",
              "      <td>SCT</td>\n",
              "      <td>1300.0</td>\n",
              "      <td>1900.0</td>\n",
              "      <td>BKN</td>\n",
              "      <td>1900.0</td>\n",
              "      <td>OVC</td>\n",
              "      <td>4300.0</td>\n",
              "      <td>NaN</td>\n",
              "      <td>NaN</td>\n",
              "      <td>8</td>\n",
              "      <td>4.0</td>\n",
              "      <td>3.0</td>\n",
              "      <td>29.58</td>\n",
              "      <td>61</td>\n",
              "      <td>0</td>\n",
              "      <td>19.733545</td>\n",
              "      <td>-7.182423</td>\n",
              "      <td>0.0</td>\n",
              "    </tr>\n",
              "  </tbody>\n",
              "</table>\n",
              "<p>171574 rows × 21 columns</p>\n",
              "</div>"
            ],
            "text/plain": [
              "                     wind_direction  wind_speed  ... northward_wind wx_binary\n",
              "date_time                                        ...                         \n",
              "2000-01-03 18:10:00            40.0        10.0  ...      -7.660444       0.0\n",
              "2000-01-03 18:15:00            30.0        10.0  ...      -8.660254       0.0\n",
              "2000-01-03 18:20:00            30.0         9.0  ...      -7.794229       0.0\n",
              "2000-01-03 18:25:00            40.0         8.0  ...      -6.128356       0.0\n",
              "2000-01-03 18:30:00            30.0         9.0  ...      -7.794229       0.0\n",
              "...                             ...         ...  ...            ...       ...\n",
              "2020-03-29 09:50:00           290.0        22.0  ...      -7.524443       0.0\n",
              "2020-03-29 09:55:00           290.0        18.0  ...      -6.156363       0.0\n",
              "2020-03-29 10:00:00           290.0        25.0  ...      -8.550504       0.0\n",
              "2020-03-29 10:05:00           290.0        21.0  ...      -7.182423       0.0\n",
              "2020-03-29 10:10:00           290.0        21.0  ...      -7.182423       0.0\n",
              "\n",
              "[171574 rows x 21 columns]"
            ]
          },
          "metadata": {
            "tags": []
          },
          "execution_count": 10
        }
      ]
    },
    {
      "cell_type": "markdown",
      "metadata": {
        "id": "2Pwv8acYWGGi",
        "colab_type": "text"
      },
      "source": [
        "## Logistic Regression Model"
      ]
    },
    {
      "cell_type": "code",
      "metadata": {
        "id": "xSQWiKm7FNL6",
        "colab_type": "code",
        "colab": {}
      },
      "source": [
        "#choose features from the new metar dataframe\n",
        "features = df_new[['wind_direction', 'wind_speed','low_cloud_type',\n",
        "      'low_cloud_level', 'cloud_coverage',\n",
        "       'air_temperature', 'dew_point_temperature', 'altimeter',\n",
        "       'present_weather', 'eastward_wind', 'northward_wind','wx_binary']]"
      ],
      "execution_count": 0,
      "outputs": []
    },
    {
      "cell_type": "code",
      "metadata": {
        "id": "cTYvduogFo_s",
        "colab_type": "code",
        "outputId": "104e1e01-c05c-4be8-ac54-63339673dc2c",
        "colab": {
          "base_uri": "https://localhost:8080/",
          "height": 34
        }
      },
      "source": [
        "#list the different low_cloud_types\n",
        "features['low_cloud_type'].unique()"
      ],
      "execution_count": 63,
      "outputs": [
        {
          "output_type": "execute_result",
          "data": {
            "text/plain": [
              "array(['OVC', 'BKN', 'FEW', 'SCT', 'VV', nan, 'CLR'], dtype=object)"
            ]
          },
          "metadata": {
            "tags": []
          },
          "execution_count": 63
        }
      ]
    },
    {
      "cell_type": "code",
      "metadata": {
        "id": "ZtjbIt9zF6U3",
        "colab_type": "code",
        "colab": {}
      },
      "source": [
        "# convert the low_cloud_type to a value between 0 to 1\n",
        "lc_flt ={'OVC':1, 'BKN':0.75, 'FEW':0.2, 'SCT':0.4, 'CLR':0}"
      ],
      "execution_count": 0,
      "outputs": []
    },
    {
      "cell_type": "code",
      "metadata": {
        "id": "fKX6Ib1uG-mK",
        "colab_type": "code",
        "outputId": "015e1382-387f-4c9b-9da9-2190cdd00cea",
        "colab": {
          "base_uri": "https://localhost:8080/",
          "height": 159
        }
      },
      "source": [
        "# remap the low_cloud_type column with the decimal values\n",
        "features['low_cloud_type']=features['low_cloud_type'].map(lc_flt) "
      ],
      "execution_count": 65,
      "outputs": [
        {
          "output_type": "stream",
          "text": [
            "/usr/local/lib/python3.6/dist-packages/ipykernel_launcher.py:1: SettingWithCopyWarning: \n",
            "A value is trying to be set on a copy of a slice from a DataFrame.\n",
            "Try using .loc[row_indexer,col_indexer] = value instead\n",
            "\n",
            "See the caveats in the documentation: https://pandas.pydata.org/pandas-docs/stable/user_guide/indexing.html#returning-a-view-versus-a-copy\n",
            "  \"\"\"Entry point for launching an IPython kernel.\n"
          ],
          "name": "stderr"
        }
      ]
    },
    {
      "cell_type": "code",
      "metadata": {
        "id": "ix93dYEhHVBG",
        "colab_type": "code",
        "colab": {}
      },
      "source": [
        "# drop nan from features\n",
        "features=features.dropna()"
      ],
      "execution_count": 0,
      "outputs": []
    },
    {
      "cell_type": "code",
      "metadata": {
        "id": "CcCyziaUG7SL",
        "colab_type": "code",
        "colab": {}
      },
      "source": [
        "# add a time_of_day to the feature\n",
        "features['time_of_day']=features.index.hour"
      ],
      "execution_count": 0,
      "outputs": []
    },
    {
      "cell_type": "code",
      "metadata": {
        "id": "RZTdhH-aH_qD",
        "colab_type": "code",
        "outputId": "793523c3-a925-4d30-cc90-4050904c66ee",
        "colab": {
          "base_uri": "https://localhost:8080/",
          "height": 660
        }
      },
      "source": [
        "features"
      ],
      "execution_count": 68,
      "outputs": [
        {
          "output_type": "execute_result",
          "data": {
            "text/html": [
              "<div>\n",
              "<style scoped>\n",
              "    .dataframe tbody tr th:only-of-type {\n",
              "        vertical-align: middle;\n",
              "    }\n",
              "\n",
              "    .dataframe tbody tr th {\n",
              "        vertical-align: top;\n",
              "    }\n",
              "\n",
              "    .dataframe thead th {\n",
              "        text-align: right;\n",
              "    }\n",
              "</style>\n",
              "<table border=\"1\" class=\"dataframe\">\n",
              "  <thead>\n",
              "    <tr style=\"text-align: right;\">\n",
              "      <th></th>\n",
              "      <th>wind_direction</th>\n",
              "      <th>wind_speed</th>\n",
              "      <th>low_cloud_type</th>\n",
              "      <th>low_cloud_level</th>\n",
              "      <th>cloud_coverage</th>\n",
              "      <th>air_temperature</th>\n",
              "      <th>dew_point_temperature</th>\n",
              "      <th>altimeter</th>\n",
              "      <th>present_weather</th>\n",
              "      <th>eastward_wind</th>\n",
              "      <th>northward_wind</th>\n",
              "      <th>wx_binary</th>\n",
              "      <th>time_of_day</th>\n",
              "    </tr>\n",
              "    <tr>\n",
              "      <th>date_time</th>\n",
              "      <th></th>\n",
              "      <th></th>\n",
              "      <th></th>\n",
              "      <th></th>\n",
              "      <th></th>\n",
              "      <th></th>\n",
              "      <th></th>\n",
              "      <th></th>\n",
              "      <th></th>\n",
              "      <th></th>\n",
              "      <th></th>\n",
              "      <th></th>\n",
              "      <th></th>\n",
              "    </tr>\n",
              "  </thead>\n",
              "  <tbody>\n",
              "    <tr>\n",
              "      <th>2000-01-03 18:10:00</th>\n",
              "      <td>40.0</td>\n",
              "      <td>10.0</td>\n",
              "      <td>1.00</td>\n",
              "      <td>500.0</td>\n",
              "      <td>8</td>\n",
              "      <td>1.0</td>\n",
              "      <td>0.0</td>\n",
              "      <td>29.86</td>\n",
              "      <td>61</td>\n",
              "      <td>-6.427876</td>\n",
              "      <td>-7.660444</td>\n",
              "      <td>0.0</td>\n",
              "      <td>18</td>\n",
              "    </tr>\n",
              "    <tr>\n",
              "      <th>2000-01-03 18:15:00</th>\n",
              "      <td>30.0</td>\n",
              "      <td>10.0</td>\n",
              "      <td>1.00</td>\n",
              "      <td>500.0</td>\n",
              "      <td>8</td>\n",
              "      <td>1.0</td>\n",
              "      <td>0.0</td>\n",
              "      <td>29.86</td>\n",
              "      <td>61</td>\n",
              "      <td>-5.000000</td>\n",
              "      <td>-8.660254</td>\n",
              "      <td>0.0</td>\n",
              "      <td>18</td>\n",
              "    </tr>\n",
              "    <tr>\n",
              "      <th>2000-01-03 18:20:00</th>\n",
              "      <td>30.0</td>\n",
              "      <td>9.0</td>\n",
              "      <td>1.00</td>\n",
              "      <td>500.0</td>\n",
              "      <td>8</td>\n",
              "      <td>1.0</td>\n",
              "      <td>0.0</td>\n",
              "      <td>29.86</td>\n",
              "      <td>61</td>\n",
              "      <td>-4.500000</td>\n",
              "      <td>-7.794229</td>\n",
              "      <td>0.0</td>\n",
              "      <td>18</td>\n",
              "    </tr>\n",
              "    <tr>\n",
              "      <th>2000-01-03 18:25:00</th>\n",
              "      <td>40.0</td>\n",
              "      <td>8.0</td>\n",
              "      <td>1.00</td>\n",
              "      <td>500.0</td>\n",
              "      <td>8</td>\n",
              "      <td>1.0</td>\n",
              "      <td>0.0</td>\n",
              "      <td>29.86</td>\n",
              "      <td>61</td>\n",
              "      <td>-5.142301</td>\n",
              "      <td>-6.128356</td>\n",
              "      <td>0.0</td>\n",
              "      <td>18</td>\n",
              "    </tr>\n",
              "    <tr>\n",
              "      <th>2000-01-03 18:30:00</th>\n",
              "      <td>30.0</td>\n",
              "      <td>9.0</td>\n",
              "      <td>1.00</td>\n",
              "      <td>500.0</td>\n",
              "      <td>8</td>\n",
              "      <td>1.0</td>\n",
              "      <td>0.0</td>\n",
              "      <td>29.86</td>\n",
              "      <td>61</td>\n",
              "      <td>-4.500000</td>\n",
              "      <td>-7.794229</td>\n",
              "      <td>0.0</td>\n",
              "      <td>18</td>\n",
              "    </tr>\n",
              "    <tr>\n",
              "      <th>...</th>\n",
              "      <td>...</td>\n",
              "      <td>...</td>\n",
              "      <td>...</td>\n",
              "      <td>...</td>\n",
              "      <td>...</td>\n",
              "      <td>...</td>\n",
              "      <td>...</td>\n",
              "      <td>...</td>\n",
              "      <td>...</td>\n",
              "      <td>...</td>\n",
              "      <td>...</td>\n",
              "      <td>...</td>\n",
              "      <td>...</td>\n",
              "    </tr>\n",
              "    <tr>\n",
              "      <th>2020-03-29 09:50:00</th>\n",
              "      <td>290.0</td>\n",
              "      <td>22.0</td>\n",
              "      <td>0.75</td>\n",
              "      <td>1500.0</td>\n",
              "      <td>8</td>\n",
              "      <td>4.0</td>\n",
              "      <td>3.0</td>\n",
              "      <td>29.56</td>\n",
              "      <td>61</td>\n",
              "      <td>20.673238</td>\n",
              "      <td>-7.524443</td>\n",
              "      <td>0.0</td>\n",
              "      <td>9</td>\n",
              "    </tr>\n",
              "    <tr>\n",
              "      <th>2020-03-29 09:55:00</th>\n",
              "      <td>290.0</td>\n",
              "      <td>18.0</td>\n",
              "      <td>0.75</td>\n",
              "      <td>1300.0</td>\n",
              "      <td>8</td>\n",
              "      <td>4.0</td>\n",
              "      <td>3.0</td>\n",
              "      <td>29.57</td>\n",
              "      <td>61</td>\n",
              "      <td>16.914467</td>\n",
              "      <td>-6.156363</td>\n",
              "      <td>0.0</td>\n",
              "      <td>9</td>\n",
              "    </tr>\n",
              "    <tr>\n",
              "      <th>2020-03-29 10:00:00</th>\n",
              "      <td>290.0</td>\n",
              "      <td>25.0</td>\n",
              "      <td>0.40</td>\n",
              "      <td>1300.0</td>\n",
              "      <td>8</td>\n",
              "      <td>4.0</td>\n",
              "      <td>3.0</td>\n",
              "      <td>29.57</td>\n",
              "      <td>61</td>\n",
              "      <td>23.492316</td>\n",
              "      <td>-8.550504</td>\n",
              "      <td>0.0</td>\n",
              "      <td>10</td>\n",
              "    </tr>\n",
              "    <tr>\n",
              "      <th>2020-03-29 10:05:00</th>\n",
              "      <td>290.0</td>\n",
              "      <td>21.0</td>\n",
              "      <td>0.40</td>\n",
              "      <td>1300.0</td>\n",
              "      <td>8</td>\n",
              "      <td>4.0</td>\n",
              "      <td>3.0</td>\n",
              "      <td>29.57</td>\n",
              "      <td>61</td>\n",
              "      <td>19.733545</td>\n",
              "      <td>-7.182423</td>\n",
              "      <td>0.0</td>\n",
              "      <td>10</td>\n",
              "    </tr>\n",
              "    <tr>\n",
              "      <th>2020-03-29 10:10:00</th>\n",
              "      <td>290.0</td>\n",
              "      <td>21.0</td>\n",
              "      <td>0.40</td>\n",
              "      <td>1300.0</td>\n",
              "      <td>8</td>\n",
              "      <td>4.0</td>\n",
              "      <td>3.0</td>\n",
              "      <td>29.58</td>\n",
              "      <td>61</td>\n",
              "      <td>19.733545</td>\n",
              "      <td>-7.182423</td>\n",
              "      <td>0.0</td>\n",
              "      <td>10</td>\n",
              "    </tr>\n",
              "  </tbody>\n",
              "</table>\n",
              "<p>156458 rows × 13 columns</p>\n",
              "</div>"
            ],
            "text/plain": [
              "                     wind_direction  wind_speed  ...  wx_binary  time_of_day\n",
              "date_time                                        ...                        \n",
              "2000-01-03 18:10:00            40.0        10.0  ...        0.0           18\n",
              "2000-01-03 18:15:00            30.0        10.0  ...        0.0           18\n",
              "2000-01-03 18:20:00            30.0         9.0  ...        0.0           18\n",
              "2000-01-03 18:25:00            40.0         8.0  ...        0.0           18\n",
              "2000-01-03 18:30:00            30.0         9.0  ...        0.0           18\n",
              "...                             ...         ...  ...        ...          ...\n",
              "2020-03-29 09:50:00           290.0        22.0  ...        0.0            9\n",
              "2020-03-29 09:55:00           290.0        18.0  ...        0.0            9\n",
              "2020-03-29 10:00:00           290.0        25.0  ...        0.0           10\n",
              "2020-03-29 10:05:00           290.0        21.0  ...        0.0           10\n",
              "2020-03-29 10:10:00           290.0        21.0  ...        0.0           10\n",
              "\n",
              "[156458 rows x 13 columns]"
            ]
          },
          "metadata": {
            "tags": []
          },
          "execution_count": 68
        }
      ]
    },
    {
      "cell_type": "code",
      "metadata": {
        "id": "n3qHwfp_3bZ3",
        "colab_type": "code",
        "colab": {}
      },
      "source": [
        "features.to_csv('logistic_features_new.csv')"
      ],
      "execution_count": 0,
      "outputs": []
    },
    {
      "cell_type": "code",
      "metadata": {
        "id": "V8_O9BZoLXxo",
        "colab_type": "code",
        "colab": {}
      },
      "source": [
        "# features setup\n",
        "y = features['wx_binary']\n",
        "X = features.drop(['wx_binary'],axis=1).values"
      ],
      "execution_count": 0,
      "outputs": []
    },
    {
      "cell_type": "code",
      "metadata": {
        "id": "SgAj-2kwI88U",
        "colab_type": "code",
        "colab": {}
      },
      "source": [
        "#Split the data into training and testing data with 0.7 and 0.3\n",
        "X_train, X_test, y_train, y_test = train_test_split(X, y, test_size = 0.3,\n",
        "                                                    random_state=0)"
      ],
      "execution_count": 0,
      "outputs": []
    },
    {
      "cell_type": "code",
      "metadata": {
        "id": "wbM5M1EQCtBM",
        "colab_type": "code",
        "colab": {}
      },
      "source": [
        "#scale the X data \n",
        "X_train_scaled = preprocessing.scale(X_train)\n",
        "X_test_scaled = preprocessing.scale(X_test)"
      ],
      "execution_count": 0,
      "outputs": []
    },
    {
      "cell_type": "code",
      "metadata": {
        "id": "wbdBBzjqC1wx",
        "colab_type": "code",
        "colab": {}
      },
      "source": [
        "#intialize the logistic regression and fit the regression to training data\n",
        "clf = LogisticRegression(random_state=0).fit(X_train_scaled, y_train)"
      ],
      "execution_count": 0,
      "outputs": []
    },
    {
      "cell_type": "code",
      "metadata": {
        "id": "sG5iZtC1tOOu",
        "colab_type": "code",
        "colab": {}
      },
      "source": [
        "#calculate the probability for logistic regression\n",
        "test_prob = clf.predict_proba(X_test_scaled)\n",
        "train_prob = clf.predict_proba(X_train_scaled)"
      ],
      "execution_count": 0,
      "outputs": []
    },
    {
      "cell_type": "code",
      "metadata": {
        "id": "X6jpS417thEZ",
        "colab_type": "code",
        "colab": {}
      },
      "source": [
        "#function to return the climatological probability\n",
        "def get_climo(y, shape):\n",
        "    climo = (np.size((y == 1).values.nonzero()))/float(np.size(y))\n",
        "    prob  = np.zeros((shape))\n",
        "    prob[:,0] = 1-climo\n",
        "    prob[:,1] = climo\n",
        "\n",
        "    return prob"
      ],
      "execution_count": 0,
      "outputs": []
    },
    {
      "cell_type": "code",
      "metadata": {
        "id": "JwmT7W5Ltn9k",
        "colab_type": "code",
        "colab": {}
      },
      "source": [
        "# calculate climatological probability for training and testing data\n",
        "train_climo_prob = get_climo(y_train, train_prob.shape)\n",
        "test_climo_prob = get_climo(y_test, test_prob.shape)"
      ],
      "execution_count": 0,
      "outputs": []
    },
    {
      "cell_type": "code",
      "metadata": {
        "id": "yfF-_NrEt3TE",
        "colab_type": "code",
        "colab": {}
      },
      "source": [
        "#calculate the Brier Skill Score for training and testing data\n",
        "train_bss = 1 - (brier_score_loss(y_train, train_prob[:,1])/brier_score_loss(y_train, train_climo_prob[:,1]))\n",
        "test_bss = 1 - (brier_score_loss(y_test, test_prob[:,1])/brier_score_loss(y_test, test_climo_prob[:,1]))"
      ],
      "execution_count": 0,
      "outputs": []
    },
    {
      "cell_type": "code",
      "metadata": {
        "id": "cNVs0Ju6uiYV",
        "colab_type": "code",
        "outputId": "0a0a6703-3d7c-4991-ef80-0da5df9d0d4e",
        "colab": {
          "base_uri": "https://localhost:8080/",
          "height": 51
        }
      },
      "source": [
        "print('Training Brier skill score: ' + str(train_bss))\n",
        "print('Validation Brier skill score: ' + str(test_bss))"
      ],
      "execution_count": 80,
      "outputs": [
        {
          "output_type": "stream",
          "text": [
            "Training Brier skill score: 0.9366998007102564\n",
            "Validation Brier skill score: 0.9356258096796903\n"
          ],
          "name": "stdout"
        }
      ]
    },
    {
      "cell_type": "code",
      "metadata": {
        "id": "JhAQ9faPvaV5",
        "colab_type": "code",
        "outputId": "8e320f89-d5a4-4f7a-e45e-85b1f0e55498",
        "colab": {
          "base_uri": "https://localhost:8080/",
          "height": 302
        }
      },
      "source": [
        "#ploting the roc_curve\n",
        "plt.figure(figsize=(6, 4))\n",
        "fpr, tpr, thresholds = roc_curve(y_test, test_prob[:,1])\n",
        "plt.plot([0, 1], [0, 1], linestyle='--',label = 'zero skill')\n",
        "plt.plot(fpr, tpr, label = 'Logistic Regression')\n",
        "plt.xlabel('Probability of false detection')\n",
        "plt.ylabel('Probability of detection')\n",
        "plt.title('ROC curve', fontsize = 14)\n",
        "plt.legend(loc = 'best')\n",
        "# show the plot\n",
        "plt.show()\n",
        "plt.show()\n",
        "\n"
      ],
      "execution_count": 60,
      "outputs": [
        {
          "output_type": "display_data",
          "data": {
            "image/png": "[encoded data removed]",
            "text/plain": [
              "<Figure size 432x288 with 1 Axes>"
            ]
          },
          "metadata": {
            "tags": []
          }
        }
      ]
    },
    {
      "cell_type": "code",
      "metadata": {
        "id": "JNYDksxcyJXd",
        "colab_type": "code",
        "outputId": "fb99d70d-b3f4-43d0-c21a-4711eb2caf77",
        "colab": {
          "base_uri": "https://localhost:8080/",
          "height": 302
        }
      },
      "source": [
        "#plot the confusion matrix\n",
        "mat = confusion_matrix(y_test, predict_y)\n",
        "sns.heatmap(mat.T, square=True, annot=True, fmt='d', cbar=False)\n",
        "plt.title('0:Rain, 1:Snow', fontsize = 14)\n",
        "plt.xlabel('true label')\n",
        "plt.ylabel('predicted label');"
      ],
      "execution_count": 61,
      "outputs": [
        {
          "output_type": "display_data",
          "data": {
            "image/png": "[encoded data removed]",
            "text/plain": [
              "<Figure size 432x288 with 1 Axes>"
            ]
          },
          "metadata": {
            "tags": []
          }
        }
      ]
    }
  ]
}