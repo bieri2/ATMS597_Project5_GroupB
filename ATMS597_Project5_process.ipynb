{
  "nbformat": 4,
  "nbformat_minor": 0,
  "metadata": {
    "colab": {
      "name": "ATMS597_Project5_process.ipynb",
      "provenance": [],
      "mount_file_id": "1080OxfXNKiPjwSeGCq-5GYD4lo8tEiKI",
      "authorship_tag": "ABX9TyPuLl9tGi1+9G+hmonEPp5O",
      "include_colab_link": true
    },
    "kernelspec": {
      "name": "python3",
      "display_name": "Python 3"
    }
  },
  "cells": [
    {
      "cell_type": "markdown",
      "metadata": {
        "id": "view-in-github",
        "colab_type": "text"
      },
      "source": [
        "<a href=\"https://colab.research.google.com/github/bieri2/ATMS597_Project5_GroupB/blob/master/ATMS597_Project5_process.ipynb\" target=\"_parent\"><img src=\"https://colab.research.google.com/assets/colab-badge.svg\" alt=\"Open In Colab\"/></a>"
      ]
    },
    {
      "cell_type": "code",
      "metadata": {
        "id": "nSzh9-CffXap",
        "colab_type": "code",
        "colab": {}
      },
      "source": [
        "import pandas as pd\n",
        "import os\n",
        "from datetime import datetime as dt"
      ],
      "execution_count": 0,
      "outputs": []
    },
    {
      "cell_type": "code",
      "metadata": {
        "id": "eEQVc8-ztlFM",
        "colab_type": "code",
        "colab": {}
      },
      "source": [
        "pip install metpy"
      ],
      "execution_count": 0,
      "outputs": []
    },
    {
      "cell_type": "code",
      "metadata": {
        "id": "EeXD7aKsto-y",
        "colab_type": "code",
        "colab": {}
      },
      "source": [
        "from metpy.io import parse_metar_to_dataframe as parse_metar"
      ],
      "execution_count": 0,
      "outputs": []
    },
    {
      "cell_type": "code",
      "metadata": {
        "id": "6GTfgIh2gb32",
        "colab_type": "code",
        "colab": {}
      },
      "source": [
        "# Define path to data\n",
        "path  = '/content/drive/My Drive/Project5_Data/'\n",
        "# List files in directory\n",
        "files = os.listdir(path)"
      ],
      "execution_count": 0,
      "outputs": []
    },
    {
      "cell_type": "code",
      "metadata": {
        "id": "LssiEo5DgwMr",
        "colab_type": "code",
        "colab": {}
      },
      "source": [
        "# Define function to read & parse a single file\n",
        "def process_file(file):\n",
        "    \"\"\"\n",
        "    Function to process an ASOS file downloaded from ftp://ftp.ncdc.noaa.gov/pub/data/asos-fivemin/.\n",
        "    Reads a file and parses the METAR codes contained therein using MetPy. Data are parsed for \n",
        "    each time step contained in the file. Once this has been completed, the resulting DataFrames\n",
        "    are concatenated into one DataFrame and returned.\n",
        "\n",
        "    Parameters:\n",
        "    -file (string): File name of the ASOS .dat file to be read and parsed\n",
        "\n",
        "    Returns:\n",
        "    -A pandas DataFrame containing the parsed data read from the ASOS file.\n",
        "    \"\"\"\n",
        "    # Create empty list to hold data \n",
        "    all_data = []\n",
        "    # Read data from file\n",
        "    data = pd.read_csv(file)\n",
        "    # Get month and year from file name\n",
        "    time = dt.strptime(file[-10:-4], '%Y%m')\n",
        "    print(time)\n",
        "    # Parse METAR codes in each row (each row is a time step) using MetPy function\n",
        "    for index, row in data.iterrows():\n",
        "          try:\n",
        "              all_data.append(parse_metar(row.values[0][52:], year = time.year, month =  time.month))\n",
        "          # If error raised, just continue and exclude data for that time step\n",
        "          except:\n",
        "              print('Error at ' + str(index))\n",
        "              print(row.values) \n",
        "              print('Excluding data for this timestep...')\n",
        "\n",
        "    # Concatenate all DataFrames for each time step and return\n",
        "    return pd.concat(all_data)"
      ],
      "execution_count": 0,
      "outputs": []
    },
    {
      "cell_type": "code",
      "metadata": {
        "id": "ieC3ZZvWg1Bk",
        "colab_type": "code",
        "colab": {}
      },
      "source": [
        "# Loop through all ASOS files \n",
        "\n",
        "# Define empty list to hold DataFrames\n",
        "all_df = []\n",
        "for file in files:\n",
        "    print('Processing file ' + file)\n",
        "    # Use function defined above to process data and append to list\n",
        "    try:\n",
        "        current = process_file(path + file)\n",
        "        all_df.append(current)\n",
        "    # If there's a problem with the file, exclude that file and keep going\n",
        "    except:\n",
        "        print('Problem with ' + file)\n",
        "        print('Excluding data from this file...')"
      ],
      "execution_count": 0,
      "outputs": []
    },
    {
      "cell_type": "code",
      "metadata": {
        "id": "P8lDtw1vchP3",
        "colab_type": "code",
        "colab": {}
      },
      "source": [
        "# Concatenate all DataFrames in list\n",
        "all_data = pd.concat(all_data)"
      ],
      "execution_count": 0,
      "outputs": []
    },
    {
      "cell_type": "code",
      "metadata": {
        "id": "mQEinpZ8nD78",
        "colab_type": "code",
        "colab": {}
      },
      "source": [
        "# Define the index\n",
        "all_data.index = all_data.date_time"
      ],
      "execution_count": 0,
      "outputs": []
    },
    {
      "cell_type": "code",
      "metadata": {
        "id": "auyAIKE9sfTq",
        "colab_type": "code",
        "colab": {}
      },
      "source": [
        "# Save to a .csv file\n",
        "all_data.to_csv('/content/drive/My Drive/Project5_Data/all_data_KDSM_no_qc.csv')"
      ],
      "execution_count": 0,
      "outputs": []
    },
    {
      "cell_type": "code",
      "metadata": {
        "id": "eeySBf4VvoVf",
        "colab_type": "code",
        "colab": {}
      },
      "source": [
        ""
      ],
      "execution_count": 0,
      "outputs": []
    }
  ]
}