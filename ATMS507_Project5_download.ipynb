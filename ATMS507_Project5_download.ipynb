{
  "nbformat": 4,
  "nbformat_minor": 0,
  "metadata": {
    "colab": {
      "name": "ATMS507_Project5_download.ipynb",
      "provenance": [],
      "mount_file_id": "1reBVwO-apDWZ8MV3p4uWJjgUpYROiAyV",
      "authorship_tag": "ABX9TyOXj2Ur9mmUXxdXG2EXWKOb",
      "include_colab_link": true
    },
    "kernelspec": {
      "name": "python3",
      "display_name": "Python 3"
    }
  },
  "cells": [
    {
      "cell_type": "markdown",
      "metadata": {
        "id": "view-in-github",
        "colab_type": "text"
      },
      "source": [
        "<a href=\"https://colab.research.google.com/github/bieri2/ATMS597_Project5_GroupB/blob/master/ATMS507_Project5_download.ipynb\" target=\"_parent\"><img src=\"https://colab.research.google.com/assets/colab-badge.svg\" alt=\"Open In Colab\"/></a>"
      ]
    },
    {
      "cell_type": "code",
      "metadata": {
        "id": "S-arHkJnSUe4",
        "colab_type": "code",
        "colab": {}
      },
      "source": [
        "from ftplib import FTP\n",
        "import os"
      ],
      "execution_count": 0,
      "outputs": []
    },
    {
      "cell_type": "code",
      "metadata": {
        "id": "qQbH8uOESeLH",
        "colab_type": "code",
        "colab": {}
      },
      "source": [
        "# Define FTP object\n",
        "ftp = FTP('ftp.ncdc.noaa.gov')\n",
        "# Log in and change to directory with 5-min data\n",
        "ftp.login()\n",
        "ftp.cwd('pub/data/asos-fivemin/')\n",
        "# Get list of subdirectories \n",
        "# Each directory contains data for one year\n",
        "dirs = sorted(ftp.nlst())[:-8]"
      ],
      "execution_count": 0,
      "outputs": []
    },
    {
      "cell_type": "code",
      "metadata": {
        "id": "uKuU-U4IS9hu",
        "colab_type": "code",
        "colab": {}
      },
      "source": [
        "# Define station name\n",
        "station = 'KDSM'\n",
        "# Create empty list to store file names \n",
        "all_stn_files = []\n",
        "\n",
        "# Loop through subdirectories\n",
        "for dir in dirs:\n",
        "    # Go to subdirectory\n",
        "    print('Changing to ' + dir)\n",
        "    ftp.cwd(dir + '/')\n",
        "    # Get list of files in subdirectory - should be one file for each month in the year\n",
        "    dir_files = ftp.nlst()\n",
        "    # Get file names for our station only\n",
        "    print('Found these files containing station name ' + station + ':')\n",
        "    stn_files = sorted([n for n in dir_files if station in n])\n",
        "    print(stn_files)\n",
        "    print('Getting files')\n",
        "    # Download each file to local directory\n",
        "    for file in stn_files:\n",
        "        print('Downloading file' + file) \n",
        "        ftp.retrbinary('RETR ' + file, open(file, 'wb').write)\n",
        "    # Go back to top directory\n",
        "    print('Going up one level')\n",
        "    ftp.cwd('../')\n",
        "\n",
        "# Close connection\n",
        "ftp.close()"
      ],
      "execution_count": 0,
      "outputs": []
    }
  ]
}