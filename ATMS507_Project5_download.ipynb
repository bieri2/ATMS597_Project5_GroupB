{
  "nbformat": 4,
  "nbformat_minor": 0,
  "metadata": {
    "colab": {
      "name": "ATMS507_Project5_download.ipynb",
      "provenance": [],
      "mount_file_id": "1reBVwO-apDWZ8MV3p4uWJjgUpYROiAyV",
      "authorship_tag": "ABX9TyPrZK386odNpRnzLHxh+GVF",
      "include_colab_link": true
    },
    "kernelspec": {
      "name": "python3",
      "display_name": "Python 3"
    }
  },
  "cells": [
    {
      "cell_type": "markdown",
      "metadata": {
        "id": "view-in-github",
        "colab_type": "text"
      },
      "source": [
        "<a href=\"https://colab.research.google.com/github/bieri2/ATMS597_Project5_GroupB/blob/master/ATMS507_Project5_download.ipynb\" target=\"_parent\"><img src=\"https://colab.research.google.com/assets/colab-badge.svg\" alt=\"Open In Colab\"/></a>"
      ]
    },
    {
      "cell_type": "code",
      "metadata": {
        "id": "S-arHkJnSUe4",
        "colab_type": "code",
        "colab": {}
      },
      "source": [
        "from ftplib import FTP\n",
        "import os"
      ],
      "execution_count": 0,
      "outputs": []
    },
    {
      "cell_type": "code",
      "metadata": {
        "id": "qQbH8uOESeLH",
        "colab_type": "code",
        "colab": {}
      },
      "source": [
        "ftp = FTP('ftp.ncdc.noaa.gov')\n",
        "ftp.login()\n",
        "ftp.cwd('pub/data/asos-fivemin/')\n",
        "dirs = sorted(ftp.nlst())[:-8]"
      ],
      "execution_count": 0,
      "outputs": []
    },
    {
      "cell_type": "code",
      "metadata": {
        "id": "uKuU-U4IS9hu",
        "colab_type": "code",
        "colab": {}
      },
      "source": [
        "station = 'KDSM'\n",
        "all_stn_files = []\n",
        "for dir in dirs:\n",
        "    print('Changing to ' + dir)\n",
        "    ftp.cwd(dir + '/')\n",
        "    dir_files = ftp.nlst()\n",
        "    print('Found these files containing station name ' + station + ':')\n",
        "    stn_files = sorted([n for n in dir_files if station in n])\n",
        "    print(stn_files)\n",
        "    print('Getting files')\n",
        "    for file in stn_files:\n",
        "        print('Downloading file' + file) \n",
        "        ftp.retrbinary('RETR ' + file, open(file, 'wb').write)\n",
        "    print('Going up one level')\n",
        "    ftp.cwd('../')\n",
        "\n",
        "ftp.close()"
      ],
      "execution_count": 0,
      "outputs": []
    }
  ]
}