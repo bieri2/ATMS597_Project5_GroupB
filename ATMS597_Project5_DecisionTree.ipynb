{
  "nbformat": 4,
  "nbformat_minor": 0,
  "metadata": {
    "colab": {
      "name": "Project5_DecisionTree",
      "provenance": [],
      "mount_file_id": "1-QMYna64EbawSilwf8ftswr8iOZfAHhP",
      "authorship_tag": "ABX9TyNVTuKfgr2wULyxnvfzzwUm",
      "include_colab_link": true
    },
    "kernelspec": {
      "name": "python3",
      "display_name": "Python 3"
    }
  },
  "cells": [
    {
      "cell_type": "markdown",
      "metadata": {
        "id": "view-in-github",
        "colab_type": "text"
      },
      "source": [
        "<a href=\"https://colab.research.google.com/github/bieri2/ATMS597_Project5_GroupB/blob/master/ATMS597_Project5_DecisionTree.ipynb\" target=\"_parent\"><img src=\"https://colab.research.google.com/assets/colab-badge.svg\" alt=\"Open In Colab\"/></a>"
      ]
    },
    {
      "cell_type": "code",
      "metadata": {
        "id": "vVwdmCeVpwQw",
        "colab_type": "code",
        "colab": {}
      },
      "source": [
        "from sklearn import tree\n",
        "from sklearn.model_selection import train_test_split\n",
        "from sklearn.metrics import roc_curve\n",
        "from sklearn.metrics import brier_score_loss\n",
        "import pandas as pd\n",
        "import datetime as dt\n",
        "import matplotlib.pyplot as plt\n",
        "import numpy as np"
      ],
      "execution_count": 0,
      "outputs": []
    },
    {
      "cell_type": "code",
      "metadata": {
        "id": "FUYGzFC1qdYm",
        "colab_type": "code",
        "outputId": "299de0a1-9dc4-4f2a-e3c1-b7c236a45ccb",
        "colab": {
          "base_uri": "https://localhost:8080/",
          "height": 50
        }
      },
      "source": [
        "# Read data\n",
        "all_data = pd.read_csv('/content/drive/My Drive/Project5_Data/all_data_KDSM_qc.csv').set_index('date_time')"
      ],
      "execution_count": 228,
      "outputs": [
        {
          "output_type": "stream",
          "text": [
            "/usr/local/lib/python3.6/dist-packages/IPython/core/interactiveshell.py:2718: DtypeWarning: Columns (9) have mixed types.Specify dtype option on import or set low_memory=False.\n",
            "  interactivity=interactivity, compiler=compiler, result=result)\n"
          ],
          "name": "stderr"
        }
      ]
    },
    {
      "cell_type": "markdown",
      "metadata": {
        "id": "7qzOejOCxnM3",
        "colab_type": "text"
      },
      "source": [
        "**Codes** \\\\\n",
        "**Rain**: RA, FZRA, TSRA (value 0) \\\\\n",
        "**Snow**: SN, SNDZ (value 1)"
      ]
    },
    {
      "cell_type": "code",
      "metadata": {
        "id": "VfauyfRr41a5",
        "colab_type": "code",
        "colab": {}
      },
      "source": [
        "where_rasn = [i for i,x in enumerate(all_data['current_wx1'].to_list()) if ('RA' in x) | ('SN' in x)]\n",
        "rasn = all_data.iloc[where_rasn]"
      ],
      "execution_count": 0,
      "outputs": []
    },
    {
      "cell_type": "code",
      "metadata": {
        "id": "lTkQWYcUgSu2",
        "colab_type": "code",
        "colab": {}
      },
      "source": [
        "rasn.index = pd.to_datetime(rasn.index)"
      ],
      "execution_count": 0,
      "outputs": []
    },
    {
      "cell_type": "code",
      "metadata": {
        "id": "-L86vMxdTAze",
        "colab_type": "code",
        "colab": {}
      },
      "source": [
        "exclude_both = [i for i,x in enumerate(rasn['current_wx1'].to_list()) if 'SNRA' not in x]\n",
        "rasn = rasn.iloc[exclude_both]"
      ],
      "execution_count": 0,
      "outputs": []
    },
    {
      "cell_type": "code",
      "metadata": {
        "id": "GTuowhF3UDC1",
        "colab_type": "code",
        "outputId": "e160dd53-b671-4d9d-8216-e5b1a5fc08bf",
        "colab": {
          "base_uri": "https://localhost:8080/",
          "height": 233
        }
      },
      "source": [
        "set(rasn['current_wx1'].to_list())"
      ],
      "execution_count": 232,
      "outputs": [
        {
          "output_type": "execute_result",
          "data": {
            "text/plain": [
              "{'+FZRA',\n",
              " '+RA',\n",
              " '+SN',\n",
              " '+TSRA',\n",
              " '-FZRA',\n",
              " '-RA',\n",
              " '-SN',\n",
              " '-SNDZ',\n",
              " '-TSRA',\n",
              " 'FZRA',\n",
              " 'RA',\n",
              " 'SN',\n",
              " 'TSRA'}"
            ]
          },
          "metadata": {
            "tags": []
          },
          "execution_count": 232
        }
      ]
    },
    {
      "cell_type": "code",
      "metadata": {
        "id": "xmMJWOOOXljj",
        "colab_type": "code",
        "colab": {}
      },
      "source": [
        "rasn['is_snowing'] = 0"
      ],
      "execution_count": 0,
      "outputs": []
    },
    {
      "cell_type": "code",
      "metadata": {
        "id": "D1fKxL3IZCp4",
        "colab_type": "code",
        "outputId": "765a4dd2-352f-483a-e9ed-a45151a2df48",
        "colab": {
          "base_uri": "https://localhost:8080/",
          "height": 100
        }
      },
      "source": [
        "where_sn = [i for i,x in enumerate(rasn['current_wx1'].to_list()) if 'SN' in x]\n",
        "rasn['is_snowing'][where_sn] = 1"
      ],
      "execution_count": 234,
      "outputs": [
        {
          "output_type": "stream",
          "text": [
            "/usr/local/lib/python3.6/dist-packages/ipykernel_launcher.py:2: SettingWithCopyWarning: \n",
            "A value is trying to be set on a copy of a slice from a DataFrame\n",
            "\n",
            "See the caveats in the documentation: https://pandas.pydata.org/pandas-docs/stable/user_guide/indexing.html#returning-a-view-versus-a-copy\n",
            "  \n"
          ],
          "name": "stderr"
        }
      ]
    },
    {
      "cell_type": "code",
      "metadata": {
        "id": "6Rm-UJmbBj3a",
        "colab_type": "code",
        "colab": {}
      },
      "source": [
        "rasn['day_of_year'] = rasn.index.dayofyear"
      ],
      "execution_count": 0,
      "outputs": []
    },
    {
      "cell_type": "code",
      "metadata": {
        "id": "TR9tQ7UdtJKd",
        "colab_type": "code",
        "colab": {}
      },
      "source": [
        "lc_int = {'OVC':1, 'BKN':0.7, 'FEW':0.2, 'SCT':0.4,'VV':0.5, 'CLR':0}\n",
        "rasn['low_cloud_type'] = rasn['low_cloud_type'].map(lc_int) "
      ],
      "execution_count": 0,
      "outputs": []
    },
    {
      "cell_type": "code",
      "metadata": {
        "id": "dzb3sEZGbMLq",
        "colab_type": "code",
        "colab": {}
      },
      "source": [
        "features = ['air_temperature', 'wind_speed', 'wind_direction',  \n",
        "            'low_cloud_level', 'cloud_coverage', \n",
        "            'air_temperature', 'dew_point_temperature', \n",
        "            'altimeter', 'eastward_wind', \n",
        "            'northward_wind', 'day_of_year',\n",
        "            'low_cloud_type', 'is_snowing']\n",
        "\n",
        "rasn_sub = rasn.dropna(subset = features)\n",
        "trainX, validX, trainy, validy = train_test_split(rasn_sub[features[:-1]], rasn_sub['is_snowing'], \n",
        "                                                  test_size = 0.3, random_state = 42)"
      ],
      "execution_count": 0,
      "outputs": []
    },
    {
      "cell_type": "code",
      "metadata": {
        "id": "1HyNH3eAbg1X",
        "colab_type": "code",
        "colab": {}
      },
      "source": [
        "dtc    = tree.DecisionTreeClassifier()\n",
        "model  = dtc.fit(trainX, trainy)\n",
        "prediction = model.predict(validX)"
      ],
      "execution_count": 0,
      "outputs": []
    },
    {
      "cell_type": "code",
      "metadata": {
        "id": "jBlFmvtGpKI-",
        "colab_type": "code",
        "colab": {}
      },
      "source": [
        "valid_prob = model.predict_proba(validX)\n",
        "train_prob = model.predict_proba(trainX)"
      ],
      "execution_count": 0,
      "outputs": []
    },
    {
      "cell_type": "code",
      "metadata": {
        "id": "Nbr11YF0yu0a",
        "colab_type": "code",
        "colab": {}
      },
      "source": [
        "def get_climo(y, shape):\n",
        "    climo = (np.size((y == 1).values.nonzero()))/float(np.size(y))\n",
        "    prob  = np.zeros((shape))\n",
        "    prob[:,0] = 1-climo\n",
        "    prob[:,1] = climo\n",
        "\n",
        "    return prob"
      ],
      "execution_count": 0,
      "outputs": []
    },
    {
      "cell_type": "code",
      "metadata": {
        "id": "VosInvVn5nAQ",
        "colab_type": "code",
        "colab": {}
      },
      "source": [
        "train_climo_prob = get_climo(trainy, train_prob.shape)\n",
        "valid_climo_prob = train_climo_prob[:47547, :]"
      ],
      "execution_count": 0,
      "outputs": []
    },
    {
      "cell_type": "code",
      "metadata": {
        "id": "zad_fjkW8E2O",
        "colab_type": "code",
        "colab": {}
      },
      "source": [
        "bss_train = 1 - (brier_score_loss(trainy, train_prob[:,1])/brier_score_loss(trainy, train_climo_prob[:,1]))\n",
        "bss_valid = 1 - (brier_score_loss(validy, valid_prob[:,1])/brier_score_loss(validy, valid_climo_prob[:,1]))"
      ],
      "execution_count": 0,
      "outputs": []
    },
    {
      "cell_type": "code",
      "metadata": {
        "id": "Q0dlJ8oT8xCN",
        "colab_type": "code",
        "outputId": "4e8c5d1c-0c16-4e11-92b2-6fb176f3c381",
        "colab": {
          "base_uri": "https://localhost:8080/",
          "height": 50
        }
      },
      "source": [
        "print('Training Brier skill score: '   + str(bss_train))\n",
        "print('Validation Brier skill score: ' + str(bss_valid))"
      ],
      "execution_count": 243,
      "outputs": [
        {
          "output_type": "stream",
          "text": [
            "Training Brier skill score: 0.9997886184920601\n",
            "Validation Brier skill score: 0.9742434143850809\n"
          ],
          "name": "stdout"
        }
      ]
    },
    {
      "cell_type": "code",
      "metadata": {
        "id": "zGpABsAR0N7M",
        "colab_type": "code",
        "colab": {}
      },
      "source": [
        "fpr, tpr, thresholds = roc_curve(validy, valid_prob[:,1])"
      ],
      "execution_count": 0,
      "outputs": []
    },
    {
      "cell_type": "code",
      "metadata": {
        "id": "cpseVC0R0poN",
        "colab_type": "code",
        "outputId": "e78424b6-235e-476a-9bc7-5ebfdac5b506",
        "colab": {
          "base_uri": "https://localhost:8080/",
          "height": 265
        }
      },
      "source": [
        "plt.plot([0, 1], [0, 1], linestyle='--')\n",
        "plt.plot(fpr, tpr)\n",
        "plt.show()"
      ],
      "execution_count": 245,
      "outputs": [
        {
          "output_type": "display_data",
          "data": {
            "image/png": "[encoded data removed]",
            "text/plain": [
              "<Figure size 432x288 with 1 Axes>"
            ]
          },
          "metadata": {
            "tags": [],
            "needs_background": "light"
          }
        }
      ]
    },
    {
      "cell_type": "code",
      "metadata": {
        "id": "6jZAos22m7i-",
        "colab_type": "code",
        "colab": {}
      },
      "source": [
        ""
      ],
      "execution_count": 0,
      "outputs": []
    }
  ]
}