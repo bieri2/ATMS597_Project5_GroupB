{
  "nbformat": 4,
  "nbformat_minor": 0,
  "metadata": {
    "colab": {
      "name": "Project5_DecisionTree",
      "provenance": [],
      "mount_file_id": "1-QMYna64EbawSilwf8ftswr8iOZfAHhP",
      "authorship_tag": "ABX9TyOYdExhiYAvCx+qEyeMh1Kk",
      "include_colab_link": true
    },
    "kernelspec": {
      "name": "python3",
      "display_name": "Python 3"
    }
  },
  "cells": [
    {
      "cell_type": "markdown",
      "metadata": {
        "id": "view-in-github",
        "colab_type": "text"
      },
      "source": [
        "<a href=\"https://colab.research.google.com/github/bieri2/ATMS597_Project5_GroupB/blob/master/Project5_DecisionTree.ipynb\" target=\"_parent\"><img src=\"https://colab.research.google.com/assets/colab-badge.svg\" alt=\"Open In Colab\"/></a>"
      ]
    },
    {
      "cell_type": "code",
      "metadata": {
        "id": "vVwdmCeVpwQw",
        "colab_type": "code",
        "colab": {}
      },
      "source": [
        "from sklearn import tree\n",
        "from sklearn.model_selection import train_test_split\n",
        "from sklearn.metrics import roc_curve\n",
        "from sklearn.metrics import brier_score_loss\n",
        "from sklearn.metrics import confusion_matrix\n",
        "import pandas as pd\n",
        "import datetime as dt\n",
        "import matplotlib.pyplot as plt\n",
        "import numpy as np\n",
        "import seaborn as sns"
      ],
      "execution_count": 0,
      "outputs": []
    },
    {
      "cell_type": "code",
      "metadata": {
        "id": "B0hJLerKjN9S",
        "colab_type": "code",
        "colab": {}
      },
      "source": [
        "# Read dataset with pre-processed data\n",
        "features = pd.read_csv('/content/drive/My Drive/Project5_Data/logistic_features_new.csv', index_col=['date_time'], parse_dates=True)"
      ],
      "execution_count": 0,
      "outputs": []
    },
    {
      "cell_type": "code",
      "metadata": {
        "id": "dzb3sEZGbMLq",
        "colab_type": "code",
        "colab": {}
      },
      "source": [
        "# Define columns to be used to train model\n",
        "columns = ['air_temperature', 'wind_speed',   \n",
        "           'low_cloud_level', 'cloud_coverage', \n",
        "           'air_temperature', 'dew_point_temperature', \n",
        "           'altimeter', 'eastward_wind', \n",
        "           'northward_wind', 'time_of_day',\n",
        "           'wind_direction', 'low_cloud_type', \n",
        "           'wx_binary']\n",
        "\n",
        "# Randomly split data into training and validation sets; 70-30 split\n",
        "trainX, validX, trainy, validy = train_test_split(features[columns[:-1]], features['wx_binary'], \n",
        "                                                  test_size = 0.3, random_state = 42)"
      ],
      "execution_count": 0,
      "outputs": []
    },
    {
      "cell_type": "code",
      "metadata": {
        "id": "1HyNH3eAbg1X",
        "colab_type": "code",
        "colab": {}
      },
      "source": [
        "# Define decision tree classifier object\n",
        "dtc    = tree.DecisionTreeClassifier(criterion = 'entropy', min_samples_split = 5, \n",
        "                                     min_samples_leaf = 4)\n",
        "# Train model\n",
        "model  = dtc.fit(trainX, trainy)\n",
        "# Predict using validation data\n",
        "prediction = model.predict(validX)"
      ],
      "execution_count": 0,
      "outputs": []
    },
    {
      "cell_type": "code",
      "metadata": {
        "id": "jBlFmvtGpKI-",
        "colab_type": "code",
        "colab": {}
      },
      "source": [
        "# Get probabilities for each class for both training and validation data\n",
        "valid_prob = model.predict_proba(validX)\n",
        "train_prob = model.predict_proba(trainX)"
      ],
      "execution_count": 0,
      "outputs": []
    },
    {
      "cell_type": "code",
      "metadata": {
        "id": "Nbr11YF0yu0a",
        "colab_type": "code",
        "colab": {}
      },
      "source": [
        "# Define function to calculate climatological probabilities of rain (0) or snow (1)\n",
        "def get_climo(y, shape):\n",
        "    \"\"\"\n",
        "    Calculates climatological probabilities of rain or snow occurrence, given that\n",
        "    it is precipitating. In other words, returns probabilities *based on climatology*\n",
        "    that precipitation is in one class or the other, one class being rain and the other being snow.\n",
        "\n",
        "    Parameters:\n",
        "    -y (NumPy array or pandas Series): An array of binary designations corresponding \n",
        "    to rain (represented by 0) or snow (represented by 1).\n",
        "    -shape (tuple): Tuple indicating the shape of the probability array to be returned.\n",
        "\n",
        "    Returns:\n",
        "    A NumPy array containing probabilities of rain or snow based on climatology.\n",
        "    The shape of the array is that corresponding to the input parameter shape.  \n",
        "    \"\"\"\n",
        "    # Calculate probability of snow based on given data\n",
        "    climo = (np.size((y == 1).values.nonzero()))/float(np.size(y))\n",
        "    # Create array of zeros to hold probabilities\n",
        "    prob  = np.zeros((shape))\n",
        "    # Fill with probability of rain in one class\n",
        "    prob[:, 0] = 1 - climo\n",
        "    # Fill with probability of snow in the other \n",
        "    prob[:, 1] = climo\n",
        "\n",
        "    return prob"
      ],
      "execution_count": 0,
      "outputs": []
    },
    {
      "cell_type": "code",
      "metadata": {
        "id": "VosInvVn5nAQ",
        "colab_type": "code",
        "colab": {}
      },
      "source": [
        "# Get probabilities based on climatology using training data\n",
        "train_climo_prob = get_climo(trainy, train_prob.shape)\n",
        "# Use these probabilities to evaluate the model on validation data\n",
        "valid_climo_prob = train_climo_prob[:np.size(validy), :]"
      ],
      "execution_count": 0,
      "outputs": []
    },
    {
      "cell_type": "code",
      "metadata": {
        "id": "zad_fjkW8E2O",
        "colab_type": "code",
        "colab": {}
      },
      "source": [
        "# Calculate Brier Skill Scores for training and validation sets\n",
        "bss_train = 1 - (brier_score_loss(trainy, train_prob[:, 1])/brier_score_loss(trainy, train_climo_prob[:, 1]))\n",
        "bss_valid = 1 - (brier_score_loss(validy, valid_prob[:, 1])/brier_score_loss(validy, valid_climo_prob[:, 1]))"
      ],
      "execution_count": 0,
      "outputs": []
    },
    {
      "cell_type": "code",
      "metadata": {
        "id": "Q0dlJ8oT8xCN",
        "colab_type": "code",
        "outputId": "d290a29a-0693-454d-f835-f916a58b60c2",
        "colab": {
          "base_uri": "https://localhost:8080/",
          "height": 50
        }
      },
      "source": [
        "print('Training Brier skill score: '   + str(bss_train))\n",
        "print('Validation Brier skill score: ' + str(bss_valid))"
      ],
      "execution_count": 0,
      "outputs": [
        {
          "output_type": "stream",
          "text": [
            "Training Brier skill score: 0.9857542748680079\n",
            "Validation Brier skill score: 0.961231466271438\n"
          ],
          "name": "stdout"
        }
      ]
    },
    {
      "cell_type": "code",
      "metadata": {
        "id": "zGpABsAR0N7M",
        "colab_type": "code",
        "colab": {}
      },
      "source": [
        "# Calculate ROC curve using scikit-learn\n",
        "fpr, tpr, thresholds = roc_curve(validy, valid_prob[:, 1])"
      ],
      "execution_count": 0,
      "outputs": []
    },
    {
      "cell_type": "code",
      "metadata": {
        "id": "cpseVC0R0poN",
        "colab_type": "code",
        "outputId": "53e1c389-aad8-4113-d639-f3d50ffc7f06",
        "colab": {
          "base_uri": "https://localhost:8080/",
          "height": 410
        }
      },
      "source": [
        "# Plot ROC curve vs. climatology\n",
        "sns.set()\n",
        "plt.figure(figsize = (6, 6))\n",
        "plt.plot([0, 1], [0, 1], linestyle = '--', label = 'zero skill')\n",
        "plt.plot(fpr, tpr, label = 'decision tree')\n",
        "plt.title('Validation ROC curve')\n",
        "plt.xlabel('Probaility of false detection')\n",
        "plt.ylabel('Probability of detection')\n",
        "plt.legend()\n",
        "plt.show()"
      ],
      "execution_count": 0,
      "outputs": [
        {
          "output_type": "display_data",
          "data": {
            "image/png": "[encoded data removed]",
            "text/plain": [
              "<Figure size 432x432 with 1 Axes>"
            ]
          },
          "metadata": {
            "tags": []
          }
        }
      ]
    },
    {
      "cell_type": "code",
      "metadata": {
        "id": "Pt3pA46wWDGO",
        "colab_type": "code",
        "outputId": "462e13f9-2167-4daa-c855-65b5bbbc5d5e",
        "colab": {
          "base_uri": "https://localhost:8080/",
          "height": 285
        }
      },
      "source": [
        "# Plot confusion matrix showing model accuracy\n",
        "mat = confusion_matrix(validy, prediction)\n",
        "sns.heatmap(mat.T, square = True, annot = True, fmt = 'd', cbar = False)\n",
        "plt.xlabel('true label')\n",
        "plt.ylabel('predicted label');"
      ],
      "execution_count": 0,
      "outputs": [
        {
          "output_type": "display_data",
          "data": {
            "image/png": "[encoded data removed]",
            "text/plain": [
              "<Figure size 432x288 with 1 Axes>"
            ]
          },
          "metadata": {
            "tags": []
          }
        }
      ]
    },
    {
      "cell_type": "code",
      "metadata": {
        "id": "IDi2lw41DmfG",
        "colab_type": "code",
        "colab": {}
      },
      "source": [
        ""
      ],
      "execution_count": 0,
      "outputs": []
    }
  ]
}