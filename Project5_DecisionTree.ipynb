{
  "nbformat": 4,
  "nbformat_minor": 0,
  "metadata": {
    "colab": {
      "name": "Project5_DecisionTree",
      "provenance": [],
      "mount_file_id": "1-QMYna64EbawSilwf8ftswr8iOZfAHhP",
      "authorship_tag": "ABX9TyPBdWZ/NnMf7yDHf6a29SDw",
      "include_colab_link": true
    },
    "kernelspec": {
      "name": "python3",
      "display_name": "Python 3"
    }
  },
  "cells": [
    {
      "cell_type": "markdown",
      "metadata": {
        "id": "view-in-github",
        "colab_type": "text"
      },
      "source": [
        "<a href=\"https://colab.research.google.com/github/bieri2/ATMS597_Project5_GroupB/blob/master/Project5_DecisionTree.ipynb\" target=\"_parent\"><img src=\"https://colab.research.google.com/assets/colab-badge.svg\" alt=\"Open In Colab\"/></a>"
      ]
    },
    {
      "cell_type": "code",
      "metadata": {
        "id": "vVwdmCeVpwQw",
        "colab_type": "code",
        "colab": {}
      },
      "source": [
        "from sklearn import tree\n",
        "from sklearn.model_selection import train_test_split\n",
        "from sklearn.metrics import roc_curve\n",
        "from sklearn.metrics import brier_score_loss\n",
        "import pandas as pd\n",
        "import datetime as dt\n",
        "import matplotlib.pyplot as plt\n",
        "import numpy as np"
      ],
      "execution_count": 0,
      "outputs": []
    },
    {
      "cell_type": "code",
      "metadata": {
        "id": "FUYGzFC1qdYm",
        "colab_type": "code",
        "outputId": "d16143b3-4d91-43d0-c66b-804692245cae",
        "colab": {
          "base_uri": "https://localhost:8080/",
          "height": 50
        }
      },
      "source": [
        "# Read data\n",
        "all_data = pd.read_csv('/content/drive/My Drive/Project5_Data/all_data_KDSM_qc.csv').set_index('date_time')"
      ],
      "execution_count": 21,
      "outputs": [
        {
          "output_type": "stream",
          "text": [
            "/usr/local/lib/python3.6/dist-packages/IPython/core/interactiveshell.py:2718: DtypeWarning: Columns (9) have mixed types.Specify dtype option on import or set low_memory=False.\n",
            "  interactivity=interactivity, compiler=compiler, result=result)\n"
          ],
          "name": "stderr"
        }
      ]
    },
    {
      "cell_type": "markdown",
      "metadata": {
        "id": "7qzOejOCxnM3",
        "colab_type": "text"
      },
      "source": [
        "**Codes** \\\\\n",
        "**Rain**: RA, FZRA, TSRA (value 0) \\\\\n",
        "**Snow**: SN, SNDZ (value 1)"
      ]
    },
    {
      "cell_type": "code",
      "metadata": {
        "id": "VfauyfRr41a5",
        "colab_type": "code",
        "colab": {}
      },
      "source": [
        "where_rasn = [i for i,x in enumerate(all_data['current_wx1'].to_list()) if ('RA' in x) | ('SN' in x)]\n",
        "rasn = all_data.iloc[where_rasn]"
      ],
      "execution_count": 0,
      "outputs": []
    },
    {
      "cell_type": "code",
      "metadata": {
        "id": "lTkQWYcUgSu2",
        "colab_type": "code",
        "colab": {}
      },
      "source": [
        "rasn.index = pd.to_datetime(rasn.index)"
      ],
      "execution_count": 0,
      "outputs": []
    },
    {
      "cell_type": "code",
      "metadata": {
        "id": "-L86vMxdTAze",
        "colab_type": "code",
        "colab": {}
      },
      "source": [
        "exclude_both = [i for i,x in enumerate(rasn['current_wx1'].to_list()) if 'SNRA' not in x]\n",
        "rasn = rasn.iloc[exclude_both]"
      ],
      "execution_count": 0,
      "outputs": []
    },
    {
      "cell_type": "code",
      "metadata": {
        "id": "GTuowhF3UDC1",
        "colab_type": "code",
        "outputId": "c597389d-f7e4-48dd-e745-29f1e9db95d6",
        "colab": {
          "base_uri": "https://localhost:8080/",
          "height": 228
        }
      },
      "source": [
        "set(rasn['current_wx1'].to_list())"
      ],
      "execution_count": 25,
      "outputs": [
        {
          "output_type": "execute_result",
          "data": {
            "text/plain": [
              "{'+FZRA',\n",
              " '+RA',\n",
              " '+SN',\n",
              " '+TSRA',\n",
              " '-FZRA',\n",
              " '-RA',\n",
              " '-SN',\n",
              " '-SNDZ',\n",
              " '-TSRA',\n",
              " 'FZRA',\n",
              " 'RA',\n",
              " 'SN',\n",
              " 'TSRA'}"
            ]
          },
          "metadata": {
            "tags": []
          },
          "execution_count": 25
        }
      ]
    },
    {
      "cell_type": "code",
      "metadata": {
        "id": "xmMJWOOOXljj",
        "colab_type": "code",
        "colab": {}
      },
      "source": [
        "rasn['is_snowing'] = 0"
      ],
      "execution_count": 0,
      "outputs": []
    },
    {
      "cell_type": "code",
      "metadata": {
        "id": "D1fKxL3IZCp4",
        "colab_type": "code",
        "outputId": "f2d9882b-7bc9-4801-e193-6cb3a4d153c2",
        "colab": {
          "base_uri": "https://localhost:8080/",
          "height": 98
        }
      },
      "source": [
        "where_sn = [i for i,x in enumerate(rasn['current_wx1'].to_list()) if 'SN' in x]\n",
        "rasn['is_snowing'][where_sn] = 1"
      ],
      "execution_count": 27,
      "outputs": [
        {
          "output_type": "stream",
          "text": [
            "/usr/local/lib/python3.6/dist-packages/ipykernel_launcher.py:2: SettingWithCopyWarning: \n",
            "A value is trying to be set on a copy of a slice from a DataFrame\n",
            "\n",
            "See the caveats in the documentation: https://pandas.pydata.org/pandas-docs/stable/user_guide/indexing.html#returning-a-view-versus-a-copy\n",
            "  \n"
          ],
          "name": "stderr"
        }
      ]
    },
    {
      "cell_type": "code",
      "metadata": {
        "id": "6Rm-UJmbBj3a",
        "colab_type": "code",
        "colab": {}
      },
      "source": [
        "rasn['day_of_year'] = rasn.index.dayofyear"
      ],
      "execution_count": 0,
      "outputs": []
    },
    {
      "cell_type": "code",
      "metadata": {
        "id": "dzb3sEZGbMLq",
        "colab_type": "code",
        "colab": {}
      },
      "source": [
        "features = ['air_temperature', 'wind_speed', \n",
        "            'low_cloud_level', 'cloud_coverage', \n",
        "            'air_temperature', 'dew_point_temperature', \n",
        "            'altimeter', 'eastward_wind', \n",
        "            'northward_wind', 'day_of_year', 'is_snowing']\n",
        "\n",
        "rasn_sub = rasn.dropna(subset = features)\n",
        "trainX, validX, trainy, validy = train_test_split(rasn_sub[features[:-1]], rasn_sub['is_snowing'], test_size = 0.3, random_state = 42)"
      ],
      "execution_count": 0,
      "outputs": []
    },
    {
      "cell_type": "code",
      "metadata": {
        "id": "1HyNH3eAbg1X",
        "colab_type": "code",
        "colab": {}
      },
      "source": [
        "dtc    = tree.DecisionTreeClassifier()\n",
        "model  = dtc.fit(trainX, trainy)"
      ],
      "execution_count": 0,
      "outputs": []
    },
    {
      "cell_type": "code",
      "metadata": {
        "id": "q8sz-IrafFZW",
        "colab_type": "code",
        "colab": {}
      },
      "source": [
        "prediction = model.predict(validX)"
      ],
      "execution_count": 0,
      "outputs": []
    },
    {
      "cell_type": "code",
      "metadata": {
        "id": "jBlFmvtGpKI-",
        "colab_type": "code",
        "colab": {}
      },
      "source": [
        "prob = model.predict_proba(validX)"
      ],
      "execution_count": 0,
      "outputs": []
    },
    {
      "cell_type": "code",
      "metadata": {
        "id": "BinvJR9Xro85",
        "colab_type": "code",
        "colab": {}
      },
      "source": [
        "# plt.figure(figsize=(20,10))\n",
        "# tree.plot_tree(model)\n",
        "# plt.show()"
      ],
      "execution_count": 0,
      "outputs": []
    },
    {
      "cell_type": "code",
      "metadata": {
        "id": "VosInvVn5nAQ",
        "colab_type": "code",
        "colab": {}
      },
      "source": [
        "climo = (np.size((trainy == 1).values.nonzero()))/float(np.size(trainy))"
      ],
      "execution_count": 0,
      "outputs": []
    },
    {
      "cell_type": "code",
      "metadata": {
        "id": "zad_fjkW8E2O",
        "colab_type": "code",
        "colab": {}
      },
      "source": [
        "bss = 1 - (brier_score_loss(validy, prob[:,1])/climo)"
      ],
      "execution_count": 0,
      "outputs": []
    },
    {
      "cell_type": "code",
      "metadata": {
        "id": "Q0dlJ8oT8xCN",
        "colab_type": "code",
        "outputId": "a5d162b1-3f67-43bb-d904-80ffd7b148fc",
        "colab": {
          "base_uri": "https://localhost:8080/",
          "height": 33
        }
      },
      "source": [
        "print('Brier skill score: ' + str(bss))"
      ],
      "execution_count": 36,
      "outputs": [
        {
          "output_type": "stream",
          "text": [
            "Brier skill score: 0.9864428392824298\n"
          ],
          "name": "stdout"
        }
      ]
    },
    {
      "cell_type": "code",
      "metadata": {
        "id": "zGpABsAR0N7M",
        "colab_type": "code",
        "colab": {}
      },
      "source": [
        "fpr, tpr, thresholds = roc_curve(validy, prob[:,1])"
      ],
      "execution_count": 0,
      "outputs": []
    },
    {
      "cell_type": "code",
      "metadata": {
        "id": "cpseVC0R0poN",
        "colab_type": "code",
        "outputId": "d95ac10d-6078-4df7-f930-a13d1d37df8f",
        "colab": {
          "base_uri": "https://localhost:8080/",
          "height": 265
        }
      },
      "source": [
        "plt.plot([0, 1], [0, 1], linestyle='--')\n",
        "plt.plot(fpr, tpr)\n",
        "plt.show()"
      ],
      "execution_count": 38,
      "outputs": [
        {
          "output_type": "display_data",
          "data": {
            "image/png": "[encoded data removed]",
            "text/plain": [
              "<Figure size 432x288 with 1 Axes>"
            ]
          },
          "metadata": {
            "tags": [],
            "needs_background": "light"
          }
        }
      ]
    },
    {
      "cell_type": "code",
      "metadata": {
        "id": "30cWnQBq04hd",
        "colab_type": "code",
        "colab": {}
      },
      "source": [
        ""
      ],
      "execution_count": 0,
      "outputs": []
    }
  ]
}