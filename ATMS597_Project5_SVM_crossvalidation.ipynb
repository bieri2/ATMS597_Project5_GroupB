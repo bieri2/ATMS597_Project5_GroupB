{
  "nbformat": 4,
  "nbformat_minor": 0,
  "metadata": {
    "colab": {
      "name": "ATMS597_Project5_SVM_crossvalidation.ipynb",
      "provenance": [],
      "collapsed_sections": [],
      "authorship_tag": "ABX9TyPE6xnqoqtAB6X1CILla09+",
      "include_colab_link": true
    },
    "kernelspec": {
      "name": "python3",
      "display_name": "Python 3"
    }
  },
  "cells": [
    {
      "cell_type": "markdown",
      "metadata": {
        "id": "view-in-github",
        "colab_type": "text"
      },
      "source": [
        "<a href=\"https://colab.research.google.com/github/bieri2/ATMS597_Project5_GroupB/blob/master/ATMS597_Project5_SVM_crossvalidation.ipynb\" target=\"_parent\"><img src=\"https://colab.research.google.com/assets/colab-badge.svg\" alt=\"Open In Colab\"/></a>"
      ]
    },
    {
      "cell_type": "markdown",
      "metadata": {
        "id": "f7GecTDjUPai",
        "colab_type": "text"
      },
      "source": [
        "# ATMS-597 Project-5 Group-B \n",
        "<b>Group members:</b> Carolina Bieri, Divyansh Chug, Dongwei Fu  <br>\n",
        "<b>Assigned ASOS location:</b> Des Moines, IA (Station name KDSM) <br>\n",
        "\n",
        "<b>Goal:</b> Perform grid search for the best hyperparameters for a Support Vector Machine classifier to predict whether it will snow or rain <br>"
      ]
    },
    {
      "cell_type": "markdown",
      "metadata": {
        "id": "zhPDOWbrTWOi",
        "colab_type": "text"
      },
      "source": [
        "### This notebook tests for the best value of hyperparameters for the Support Vector Machine Classifier from Sklearn to classify the occurence of Rain or Snow in 5-min ASOS data for Des Moines, Iowa."
      ]
    },
    {
      "cell_type": "code",
      "metadata": {
        "id": "fz2TVHjU3wMK",
        "colab_type": "code",
        "colab": {
          "base_uri": "https://localhost:8080/",
          "height": 35
        },
        "outputId": "0e9cae65-4fbc-4b77-ddf7-9de2319d3ad0"
      },
      "source": [
        "#mount your google drive\n",
        "from google.colab import drive\n",
        "drive.mount('/content/drive')"
      ],
      "execution_count": 1,
      "outputs": [
        {
          "output_type": "stream",
          "text": [
            "Drive already mounted at /content/drive; to attempt to forcibly remount, call drive.mount(\"/content/drive\", force_remount=True).\n"
          ],
          "name": "stdout"
        }
      ]
    },
    {
      "cell_type": "code",
      "metadata": {
        "id": "4p1Ir3Mn36uF",
        "colab_type": "code",
        "colab": {
          "base_uri": "https://localhost:8080/",
          "height": 35
        },
        "outputId": "2cc95cc0-be36-48cc-bdf2-e95fcd90112e"
      },
      "source": [
        "#change to your directory where you stored the files\n",
        "%cd /content/drive/My Drive/Academics/ATMS597_dataanalysis/Project5/ATMS597_Project5_GroupB"
      ],
      "execution_count": 4,
      "outputs": [
        {
          "output_type": "stream",
          "text": [
            "/content/drive/My Drive/Academics/ATMS597_dataanalysis/Project5/ATMS597_Project5_GroupB\n"
          ],
          "name": "stdout"
        }
      ]
    },
    {
      "cell_type": "code",
      "metadata": {
        "id": "4pj_UUUO4KR8",
        "colab_type": "code",
        "colab": {
          "base_uri": "https://localhost:8080/",
          "height": 225
        },
        "outputId": "932ea051-da90-4d53-89f3-ece2b86b80f2"
      },
      "source": [
        "#!git clone https://github.com/bieri2/ATMS597_Project5_GroupB.git\n",
        "!git pull"
      ],
      "execution_count": 5,
      "outputs": [
        {
          "output_type": "stream",
          "text": [
            "remote: Enumerating objects: 6, done.\u001b[K\n",
            "remote: Counting objects:  16% (1/6)\u001b[K\rremote: Counting objects:  33% (2/6)\u001b[K\rremote: Counting objects:  50% (3/6)\u001b[K\rremote: Counting objects:  66% (4/6)\u001b[K\rremote: Counting objects:  83% (5/6)\u001b[K\rremote: Counting objects: 100% (6/6)\u001b[K\rremote: Counting objects: 100% (6/6), done.\u001b[K\n",
            "remote: Compressing objects: 100% (5/5), done.\u001b[K\n",
            "remote: Total 5 (delta 2), reused 0 (delta 0), pack-reused 0\u001b[K\n",
            "Unpacking objects: 100% (5/5), done.\n",
            "From https://github.com/bieri2/ATMS597_Project5_GroupB\n",
            "   bea2c8f..66709fd  master     -> origin/master\n",
            "Updating bea2c8f..66709fd\n",
            "Fast-forward\n",
            " logistic_features.csv => logistic_features_new.csv | 82892 \u001b[32m+++++++++\u001b[m\u001b[31m----------\u001b[m\n",
            " 1 file changed, 41446 insertions(+), 41446 deletions(-)\n",
            " rename logistic_features.csv => logistic_features_new.csv (84%)\n"
          ],
          "name": "stdout"
        }
      ]
    },
    {
      "cell_type": "code",
      "metadata": {
        "id": "A5YoiZze4srj",
        "colab_type": "code",
        "colab": {
          "base_uri": "https://localhost:8080/",
          "height": 72
        },
        "outputId": "86776928-96a0-4757-b102-01f421d5504e"
      },
      "source": [
        "%matplotlib inline\n",
        "import numpy as np\n",
        "import matplotlib.pyplot as plt\n",
        "from scipy import stats\n",
        "import pandas as pd\n",
        "\n",
        "# use seaborn plotting defaults\n",
        "import seaborn as sns; sns.set()"
      ],
      "execution_count": 6,
      "outputs": [
        {
          "output_type": "stream",
          "text": [
            "/usr/local/lib/python3.6/dist-packages/statsmodels/tools/_testing.py:19: FutureWarning: pandas.util.testing is deprecated. Use the functions in the public API at pandas.testing instead.\n",
            "  import pandas.util.testing as tm\n"
          ],
          "name": "stderr"
        }
      ]
    },
    {
      "cell_type": "code",
      "metadata": {
        "id": "YLraqemn5RJn",
        "colab_type": "code",
        "colab": {
          "base_uri": "https://localhost:8080/",
          "height": 782
        },
        "outputId": "17b7ad00-50f7-4d17-90bc-05c967b8d217"
      },
      "source": [
        "features = pd.read_csv('logistic_features_new.csv')\n",
        "features"
      ],
      "execution_count": 7,
      "outputs": [
        {
          "output_type": "execute_result",
          "data": {
            "text/html": [
              "<div>\n",
              "<style scoped>\n",
              "    .dataframe tbody tr th:only-of-type {\n",
              "        vertical-align: middle;\n",
              "    }\n",
              "\n",
              "    .dataframe tbody tr th {\n",
              "        vertical-align: top;\n",
              "    }\n",
              "\n",
              "    .dataframe thead th {\n",
              "        text-align: right;\n",
              "    }\n",
              "</style>\n",
              "<table border=\"1\" class=\"dataframe\">\n",
              "  <thead>\n",
              "    <tr style=\"text-align: right;\">\n",
              "      <th></th>\n",
              "      <th>date_time</th>\n",
              "      <th>wind_direction</th>\n",
              "      <th>wind_speed</th>\n",
              "      <th>low_cloud_type</th>\n",
              "      <th>low_cloud_level</th>\n",
              "      <th>cloud_coverage</th>\n",
              "      <th>air_temperature</th>\n",
              "      <th>dew_point_temperature</th>\n",
              "      <th>altimeter</th>\n",
              "      <th>present_weather</th>\n",
              "      <th>eastward_wind</th>\n",
              "      <th>northward_wind</th>\n",
              "      <th>wx_binary</th>\n",
              "      <th>time_of_day</th>\n",
              "    </tr>\n",
              "  </thead>\n",
              "  <tbody>\n",
              "    <tr>\n",
              "      <th>0</th>\n",
              "      <td>2000-01-03 18:10:00</td>\n",
              "      <td>40.0</td>\n",
              "      <td>10.0</td>\n",
              "      <td>1.00</td>\n",
              "      <td>500.0</td>\n",
              "      <td>8</td>\n",
              "      <td>1.0</td>\n",
              "      <td>0.0</td>\n",
              "      <td>29.86</td>\n",
              "      <td>61</td>\n",
              "      <td>-6.427876</td>\n",
              "      <td>-7.660444</td>\n",
              "      <td>0.0</td>\n",
              "      <td>18</td>\n",
              "    </tr>\n",
              "    <tr>\n",
              "      <th>1</th>\n",
              "      <td>2000-01-03 18:15:00</td>\n",
              "      <td>30.0</td>\n",
              "      <td>10.0</td>\n",
              "      <td>1.00</td>\n",
              "      <td>500.0</td>\n",
              "      <td>8</td>\n",
              "      <td>1.0</td>\n",
              "      <td>0.0</td>\n",
              "      <td>29.86</td>\n",
              "      <td>61</td>\n",
              "      <td>-5.000000</td>\n",
              "      <td>-8.660254</td>\n",
              "      <td>0.0</td>\n",
              "      <td>18</td>\n",
              "    </tr>\n",
              "    <tr>\n",
              "      <th>2</th>\n",
              "      <td>2000-01-03 18:20:00</td>\n",
              "      <td>30.0</td>\n",
              "      <td>9.0</td>\n",
              "      <td>1.00</td>\n",
              "      <td>500.0</td>\n",
              "      <td>8</td>\n",
              "      <td>1.0</td>\n",
              "      <td>0.0</td>\n",
              "      <td>29.86</td>\n",
              "      <td>61</td>\n",
              "      <td>-4.500000</td>\n",
              "      <td>-7.794229</td>\n",
              "      <td>0.0</td>\n",
              "      <td>18</td>\n",
              "    </tr>\n",
              "    <tr>\n",
              "      <th>3</th>\n",
              "      <td>2000-01-03 18:25:00</td>\n",
              "      <td>40.0</td>\n",
              "      <td>8.0</td>\n",
              "      <td>1.00</td>\n",
              "      <td>500.0</td>\n",
              "      <td>8</td>\n",
              "      <td>1.0</td>\n",
              "      <td>0.0</td>\n",
              "      <td>29.86</td>\n",
              "      <td>61</td>\n",
              "      <td>-5.142301</td>\n",
              "      <td>-6.128356</td>\n",
              "      <td>0.0</td>\n",
              "      <td>18</td>\n",
              "    </tr>\n",
              "    <tr>\n",
              "      <th>4</th>\n",
              "      <td>2000-01-03 18:30:00</td>\n",
              "      <td>30.0</td>\n",
              "      <td>9.0</td>\n",
              "      <td>1.00</td>\n",
              "      <td>500.0</td>\n",
              "      <td>8</td>\n",
              "      <td>1.0</td>\n",
              "      <td>0.0</td>\n",
              "      <td>29.86</td>\n",
              "      <td>61</td>\n",
              "      <td>-4.500000</td>\n",
              "      <td>-7.794229</td>\n",
              "      <td>0.0</td>\n",
              "      <td>18</td>\n",
              "    </tr>\n",
              "    <tr>\n",
              "      <th>...</th>\n",
              "      <td>...</td>\n",
              "      <td>...</td>\n",
              "      <td>...</td>\n",
              "      <td>...</td>\n",
              "      <td>...</td>\n",
              "      <td>...</td>\n",
              "      <td>...</td>\n",
              "      <td>...</td>\n",
              "      <td>...</td>\n",
              "      <td>...</td>\n",
              "      <td>...</td>\n",
              "      <td>...</td>\n",
              "      <td>...</td>\n",
              "      <td>...</td>\n",
              "    </tr>\n",
              "    <tr>\n",
              "      <th>160573</th>\n",
              "      <td>2020-03-29 09:50:00</td>\n",
              "      <td>290.0</td>\n",
              "      <td>22.0</td>\n",
              "      <td>0.75</td>\n",
              "      <td>1500.0</td>\n",
              "      <td>8</td>\n",
              "      <td>4.0</td>\n",
              "      <td>3.0</td>\n",
              "      <td>29.56</td>\n",
              "      <td>61</td>\n",
              "      <td>20.673238</td>\n",
              "      <td>-7.524443</td>\n",
              "      <td>0.0</td>\n",
              "      <td>9</td>\n",
              "    </tr>\n",
              "    <tr>\n",
              "      <th>160574</th>\n",
              "      <td>2020-03-29 09:55:00</td>\n",
              "      <td>290.0</td>\n",
              "      <td>18.0</td>\n",
              "      <td>0.75</td>\n",
              "      <td>1300.0</td>\n",
              "      <td>8</td>\n",
              "      <td>4.0</td>\n",
              "      <td>3.0</td>\n",
              "      <td>29.57</td>\n",
              "      <td>61</td>\n",
              "      <td>16.914467</td>\n",
              "      <td>-6.156363</td>\n",
              "      <td>0.0</td>\n",
              "      <td>9</td>\n",
              "    </tr>\n",
              "    <tr>\n",
              "      <th>160575</th>\n",
              "      <td>2020-03-29 10:00:00</td>\n",
              "      <td>290.0</td>\n",
              "      <td>25.0</td>\n",
              "      <td>0.40</td>\n",
              "      <td>1300.0</td>\n",
              "      <td>8</td>\n",
              "      <td>4.0</td>\n",
              "      <td>3.0</td>\n",
              "      <td>29.57</td>\n",
              "      <td>61</td>\n",
              "      <td>23.492316</td>\n",
              "      <td>-8.550504</td>\n",
              "      <td>0.0</td>\n",
              "      <td>10</td>\n",
              "    </tr>\n",
              "    <tr>\n",
              "      <th>160576</th>\n",
              "      <td>2020-03-29 10:05:00</td>\n",
              "      <td>290.0</td>\n",
              "      <td>21.0</td>\n",
              "      <td>0.40</td>\n",
              "      <td>1300.0</td>\n",
              "      <td>8</td>\n",
              "      <td>4.0</td>\n",
              "      <td>3.0</td>\n",
              "      <td>29.57</td>\n",
              "      <td>61</td>\n",
              "      <td>19.733545</td>\n",
              "      <td>-7.182423</td>\n",
              "      <td>0.0</td>\n",
              "      <td>10</td>\n",
              "    </tr>\n",
              "    <tr>\n",
              "      <th>160577</th>\n",
              "      <td>2020-03-29 10:10:00</td>\n",
              "      <td>290.0</td>\n",
              "      <td>21.0</td>\n",
              "      <td>0.40</td>\n",
              "      <td>1300.0</td>\n",
              "      <td>8</td>\n",
              "      <td>4.0</td>\n",
              "      <td>3.0</td>\n",
              "      <td>29.58</td>\n",
              "      <td>61</td>\n",
              "      <td>19.733545</td>\n",
              "      <td>-7.182423</td>\n",
              "      <td>0.0</td>\n",
              "      <td>10</td>\n",
              "    </tr>\n",
              "  </tbody>\n",
              "</table>\n",
              "<p>160578 rows × 14 columns</p>\n",
              "</div>"
            ],
            "text/plain": [
              "                  date_time  wind_direction  ...  wx_binary  time_of_day\n",
              "0       2000-01-03 18:10:00            40.0  ...        0.0           18\n",
              "1       2000-01-03 18:15:00            30.0  ...        0.0           18\n",
              "2       2000-01-03 18:20:00            30.0  ...        0.0           18\n",
              "3       2000-01-03 18:25:00            40.0  ...        0.0           18\n",
              "4       2000-01-03 18:30:00            30.0  ...        0.0           18\n",
              "...                     ...             ...  ...        ...          ...\n",
              "160573  2020-03-29 09:50:00           290.0  ...        0.0            9\n",
              "160574  2020-03-29 09:55:00           290.0  ...        0.0            9\n",
              "160575  2020-03-29 10:00:00           290.0  ...        0.0           10\n",
              "160576  2020-03-29 10:05:00           290.0  ...        0.0           10\n",
              "160577  2020-03-29 10:10:00           290.0  ...        0.0           10\n",
              "\n",
              "[160578 rows x 14 columns]"
            ]
          },
          "metadata": {
            "tags": []
          },
          "execution_count": 7
        }
      ]
    },
    {
      "cell_type": "code",
      "metadata": {
        "id": "UZHWJ2BI5ngW",
        "colab_type": "code",
        "colab": {}
      },
      "source": [
        "from sklearn.model_selection import train_test_split\n",
        "\n",
        "y = features['wx_binary']\n",
        "X = features.drop(['wx_binary', 'date_time'],axis=1)\n",
        "X_train, X_test, y_train, y_test = train_test_split(X, y, test_size = 0.3,random_state=0)"
      ],
      "execution_count": 0,
      "outputs": []
    },
    {
      "cell_type": "code",
      "metadata": {
        "id": "29bI_yCV6-nU",
        "colab_type": "code",
        "colab": {
          "base_uri": "https://localhost:8080/",
          "height": 87
        },
        "outputId": "8f155d2d-9b7d-4bc3-a66c-5a354ecf3a3c"
      },
      "source": [
        "from sklearn.svm import SVC # \"Support vector classifier\"\n",
        "clf = SVC()"
      ],
      "execution_count": 9,
      "outputs": [
        {
          "output_type": "execute_result",
          "data": {
            "text/plain": [
              "SVC(C=1.0, break_ties=False, cache_size=200, class_weight=None, coef0=0.0,\n",
              "    decision_function_shape='ovr', degree=3, gamma='scale', kernel='rbf',\n",
              "    max_iter=-1, probability=False, random_state=None, shrinking=True,\n",
              "    tol=0.001, verbose=False)"
            ]
          },
          "metadata": {
            "tags": []
          },
          "execution_count": 9
        }
      ]
    },
    {
      "cell_type": "code",
      "metadata": {
        "id": "wk361twz7cs3",
        "colab_type": "code",
        "colab": {
          "base_uri": "https://localhost:8080/",
          "height": 69
        },
        "outputId": "34716ff2-c98a-471c-8fa7-ca42d503d552"
      },
      "source": [
        "from sklearn.model_selection import GridSearchCV\n",
        "param_grid = {'C': [1, 10, 100],\n",
        "              'gamma': [0.0001, 0.001, 0.01]}\n",
        "grid = GridSearchCV(clf, param_grid)\n",
        "\n",
        "%time grid.fit(X_train, y_train)\n",
        "print(grid.best_params_)"
      ],
      "execution_count": 11,
      "outputs": [
        {
          "output_type": "stream",
          "text": [
            "CPU times: user 5h 39min, sys: 41.1 s, total: 5h 39min 41s\n",
            "Wall time: 5h 39min 59s\n",
            "{'C': 100, 'gamma': 0.001}\n"
          ],
          "name": "stdout"
        }
      ]
    },
    {
      "cell_type": "markdown",
      "metadata": {
        "id": "xG9DhpqXSfpo",
        "colab_type": "text"
      },
      "source": [
        "Most probably, C >> 100 will fetch better performance. Let's run another gridsearch with only C parameter."
      ]
    },
    {
      "cell_type": "code",
      "metadata": {
        "id": "9dOZGUnO_WPE",
        "colab_type": "code",
        "colab": {}
      },
      "source": [
        "from sklearn.model_selection import GridSearchCV\n",
        "param_grid = {'C': [100, 1e3, 1e4, 1e5, 1e6]}\n",
        "grid = GridSearchCV(clf, param_grid)\n",
        "\n",
        "%time grid.fit(X_train, y_train)\n",
        "print(grid.best_params_)"
      ],
      "execution_count": 0,
      "outputs": []
    },
    {
      "cell_type": "code",
      "metadata": {
        "id": "BqtqqndGTTpK",
        "colab_type": "code",
        "colab": {}
      },
      "source": [
        ""
      ],
      "execution_count": 0,
      "outputs": []
    }
  ]
}